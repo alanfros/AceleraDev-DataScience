{
  "nbformat": 4,
  "nbformat_minor": 0,
  "metadata": {
    "colab": {
      "name": "main.ipynb",
      "provenance": []
    },
    "kernelspec": {
      "name": "python3",
      "display_name": "Python 3"
    }
  },
  "cells": [
    {
      "cell_type": "code",
      "metadata": {
        "id": "NJDdAjui3FzC",
        "colab_type": "code",
        "colab": {
          "base_uri": "https://localhost:8080/",
          "height": 71
        },
        "outputId": "06fa10bd-adc6-4837-d8f9-081a1ebff09e"
      },
      "source": [
        "#Importando as libs\n",
        "\n",
        "#bibliotecas necessárias\n",
        "import pandas as pd\n",
        "import numpy as np\n",
        "import matplotlib.pyplot as plt\n",
        "import seaborn as sns\n",
        "from math import sqrt\n",
        "from sklearn.neighbors import KNeighborsRegressor\n",
        "from sklearn.linear_model import LinearRegression\n",
        "from sklearn.ensemble import RandomForestRegressor\n",
        "from sklearn.model_selection import train_test_split\n",
        "from sklearn.metrics import mean_squared_error,mean_absolute_error"
      ],
      "execution_count": 1,
      "outputs": [
        {
          "output_type": "stream",
          "text": [
            "/usr/local/lib/python3.6/dist-packages/statsmodels/tools/_testing.py:19: FutureWarning: pandas.util.testing is deprecated. Use the functions in the public API at pandas.testing instead.\n",
            "  import pandas.util.testing as tm\n"
          ],
          "name": "stderr"
        }
      ]
    },
    {
      "cell_type": "code",
      "metadata": {
        "id": "KvVOuhHZ3H8A",
        "colab_type": "code",
        "colab": {}
      },
      "source": [
        "# Criando datasets\n",
        "train = pd.read_csv('train.csv')\n",
        "test = pd.read_csv('test.csv')"
      ],
      "execution_count": 2,
      "outputs": []
    },
    {
      "cell_type": "code",
      "metadata": {
        "id": "ZTDYEJoW3tOK",
        "colab_type": "code",
        "colab": {
          "base_uri": "https://localhost:8080/",
          "height": 34
        },
        "outputId": "c21b5261-9ba8-4871-942a-2bd7f43ea41b"
      },
      "source": [
        "train.shape"
      ],
      "execution_count": 3,
      "outputs": [
        {
          "output_type": "execute_result",
          "data": {
            "text/plain": [
              "(13730, 167)"
            ]
          },
          "metadata": {
            "tags": []
          },
          "execution_count": 3
        }
      ]
    },
    {
      "cell_type": "code",
      "metadata": {
        "id": "x9cA3Y1v33bV",
        "colab_type": "code",
        "colab": {
          "base_uri": "https://localhost:8080/",
          "height": 177
        },
        "outputId": "5560fff0-fa83-4b89-aa18-0d8a4f431e39"
      },
      "source": [
        "train.head(2)"
      ],
      "execution_count": 7,
      "outputs": [
        {
          "output_type": "execute_result",
          "data": {
            "text/html": [
              "<div>\n",
              "<style scoped>\n",
              "    .dataframe tbody tr th:only-of-type {\n",
              "        vertical-align: middle;\n",
              "    }\n",
              "\n",
              "    .dataframe tbody tr th {\n",
              "        vertical-align: top;\n",
              "    }\n",
              "\n",
              "    .dataframe thead th {\n",
              "        text-align: right;\n",
              "    }\n",
              "</style>\n",
              "<table border=\"1\" class=\"dataframe\">\n",
              "  <thead>\n",
              "    <tr style=\"text-align: right;\">\n",
              "      <th></th>\n",
              "      <th>Unnamed: 0</th>\n",
              "      <th>NU_INSCRICAO</th>\n",
              "      <th>NU_ANO</th>\n",
              "      <th>CO_MUNICIPIO_RESIDENCIA</th>\n",
              "      <th>NO_MUNICIPIO_RESIDENCIA</th>\n",
              "      <th>CO_UF_RESIDENCIA</th>\n",
              "      <th>SG_UF_RESIDENCIA</th>\n",
              "      <th>NU_IDADE</th>\n",
              "      <th>TP_SEXO</th>\n",
              "      <th>TP_ESTADO_CIVIL</th>\n",
              "      <th>TP_COR_RACA</th>\n",
              "      <th>TP_NACIONALIDADE</th>\n",
              "      <th>CO_MUNICIPIO_NASCIMENTO</th>\n",
              "      <th>NO_MUNICIPIO_NASCIMENTO</th>\n",
              "      <th>CO_UF_NASCIMENTO</th>\n",
              "      <th>SG_UF_NASCIMENTO</th>\n",
              "      <th>TP_ST_CONCLUSAO</th>\n",
              "      <th>TP_ANO_CONCLUIU</th>\n",
              "      <th>TP_ESCOLA</th>\n",
              "      <th>TP_ENSINO</th>\n",
              "      <th>IN_TREINEIRO</th>\n",
              "      <th>CO_ESCOLA</th>\n",
              "      <th>CO_MUNICIPIO_ESC</th>\n",
              "      <th>NO_MUNICIPIO_ESC</th>\n",
              "      <th>CO_UF_ESC</th>\n",
              "      <th>SG_UF_ESC</th>\n",
              "      <th>TP_DEPENDENCIA_ADM_ESC</th>\n",
              "      <th>TP_LOCALIZACAO_ESC</th>\n",
              "      <th>TP_SIT_FUNC_ESC</th>\n",
              "      <th>IN_BAIXA_VISAO</th>\n",
              "      <th>IN_CEGUEIRA</th>\n",
              "      <th>IN_SURDEZ</th>\n",
              "      <th>IN_DEFICIENCIA_AUDITIVA</th>\n",
              "      <th>IN_SURDO_CEGUEIRA</th>\n",
              "      <th>IN_DEFICIENCIA_FISICA</th>\n",
              "      <th>IN_DEFICIENCIA_MENTAL</th>\n",
              "      <th>IN_DEFICIT_ATENCAO</th>\n",
              "      <th>IN_DISLEXIA</th>\n",
              "      <th>IN_DISCALCULIA</th>\n",
              "      <th>IN_AUTISMO</th>\n",
              "      <th>...</th>\n",
              "      <th>Q011</th>\n",
              "      <th>Q012</th>\n",
              "      <th>Q013</th>\n",
              "      <th>Q014</th>\n",
              "      <th>Q015</th>\n",
              "      <th>Q016</th>\n",
              "      <th>Q017</th>\n",
              "      <th>Q018</th>\n",
              "      <th>Q019</th>\n",
              "      <th>Q020</th>\n",
              "      <th>Q021</th>\n",
              "      <th>Q022</th>\n",
              "      <th>Q023</th>\n",
              "      <th>Q024</th>\n",
              "      <th>Q025</th>\n",
              "      <th>Q026</th>\n",
              "      <th>Q027</th>\n",
              "      <th>Q028</th>\n",
              "      <th>Q029</th>\n",
              "      <th>Q030</th>\n",
              "      <th>Q031</th>\n",
              "      <th>Q032</th>\n",
              "      <th>Q033</th>\n",
              "      <th>Q034</th>\n",
              "      <th>Q035</th>\n",
              "      <th>Q036</th>\n",
              "      <th>Q037</th>\n",
              "      <th>Q038</th>\n",
              "      <th>Q039</th>\n",
              "      <th>Q040</th>\n",
              "      <th>Q041</th>\n",
              "      <th>Q042</th>\n",
              "      <th>Q043</th>\n",
              "      <th>Q044</th>\n",
              "      <th>Q045</th>\n",
              "      <th>Q046</th>\n",
              "      <th>Q047</th>\n",
              "      <th>Q048</th>\n",
              "      <th>Q049</th>\n",
              "      <th>Q050</th>\n",
              "    </tr>\n",
              "  </thead>\n",
              "  <tbody>\n",
              "    <tr>\n",
              "      <th>0</th>\n",
              "      <td>1</td>\n",
              "      <td>ed50e8aaa58e7a806c337585efee9ca41f1eb1ad</td>\n",
              "      <td>2016</td>\n",
              "      <td>4314902</td>\n",
              "      <td>Porto Alegre</td>\n",
              "      <td>43</td>\n",
              "      <td>RS</td>\n",
              "      <td>24</td>\n",
              "      <td>M</td>\n",
              "      <td>0.0</td>\n",
              "      <td>1</td>\n",
              "      <td>1</td>\n",
              "      <td>4314902.0</td>\n",
              "      <td>Porto Alegre</td>\n",
              "      <td>43.0</td>\n",
              "      <td>RS</td>\n",
              "      <td>1</td>\n",
              "      <td>4</td>\n",
              "      <td>1</td>\n",
              "      <td>NaN</td>\n",
              "      <td>0</td>\n",
              "      <td>NaN</td>\n",
              "      <td>NaN</td>\n",
              "      <td>NaN</td>\n",
              "      <td>NaN</td>\n",
              "      <td>NaN</td>\n",
              "      <td>NaN</td>\n",
              "      <td>NaN</td>\n",
              "      <td>NaN</td>\n",
              "      <td>0</td>\n",
              "      <td>0</td>\n",
              "      <td>0</td>\n",
              "      <td>0</td>\n",
              "      <td>0</td>\n",
              "      <td>0</td>\n",
              "      <td>0</td>\n",
              "      <td>0</td>\n",
              "      <td>0</td>\n",
              "      <td>0</td>\n",
              "      <td>0</td>\n",
              "      <td>...</td>\n",
              "      <td>A</td>\n",
              "      <td>B</td>\n",
              "      <td>A</td>\n",
              "      <td>A</td>\n",
              "      <td>A</td>\n",
              "      <td>A</td>\n",
              "      <td>A</td>\n",
              "      <td>A</td>\n",
              "      <td>B</td>\n",
              "      <td>A</td>\n",
              "      <td>A</td>\n",
              "      <td>C</td>\n",
              "      <td>A</td>\n",
              "      <td>A</td>\n",
              "      <td>A</td>\n",
              "      <td>C</td>\n",
              "      <td>H</td>\n",
              "      <td>E</td>\n",
              "      <td>5.0</td>\n",
              "      <td>5.0</td>\n",
              "      <td>1.0</td>\n",
              "      <td>0.0</td>\n",
              "      <td>0.0</td>\n",
              "      <td>5</td>\n",
              "      <td>5</td>\n",
              "      <td>0</td>\n",
              "      <td>5</td>\n",
              "      <td>5</td>\n",
              "      <td>5</td>\n",
              "      <td>5</td>\n",
              "      <td>5.0</td>\n",
              "      <td>A</td>\n",
              "      <td>A</td>\n",
              "      <td>A</td>\n",
              "      <td>A</td>\n",
              "      <td>A</td>\n",
              "      <td>A</td>\n",
              "      <td>A</td>\n",
              "      <td>B</td>\n",
              "      <td>D</td>\n",
              "    </tr>\n",
              "    <tr>\n",
              "      <th>1</th>\n",
              "      <td>2</td>\n",
              "      <td>2c3acac4b33ec2b195d77e7c04a2d75727fad723</td>\n",
              "      <td>2016</td>\n",
              "      <td>2304707</td>\n",
              "      <td>Granja</td>\n",
              "      <td>23</td>\n",
              "      <td>CE</td>\n",
              "      <td>17</td>\n",
              "      <td>F</td>\n",
              "      <td>0.0</td>\n",
              "      <td>3</td>\n",
              "      <td>1</td>\n",
              "      <td>2304707.0</td>\n",
              "      <td>Granja</td>\n",
              "      <td>23.0</td>\n",
              "      <td>CE</td>\n",
              "      <td>2</td>\n",
              "      <td>0</td>\n",
              "      <td>2</td>\n",
              "      <td>1.0</td>\n",
              "      <td>0</td>\n",
              "      <td>23005157.0</td>\n",
              "      <td>2304707.0</td>\n",
              "      <td>Granja</td>\n",
              "      <td>23.0</td>\n",
              "      <td>CE</td>\n",
              "      <td>2.0</td>\n",
              "      <td>1.0</td>\n",
              "      <td>1.0</td>\n",
              "      <td>0</td>\n",
              "      <td>0</td>\n",
              "      <td>0</td>\n",
              "      <td>0</td>\n",
              "      <td>0</td>\n",
              "      <td>0</td>\n",
              "      <td>0</td>\n",
              "      <td>0</td>\n",
              "      <td>0</td>\n",
              "      <td>0</td>\n",
              "      <td>0</td>\n",
              "      <td>...</td>\n",
              "      <td>A</td>\n",
              "      <td>B</td>\n",
              "      <td>A</td>\n",
              "      <td>A</td>\n",
              "      <td>A</td>\n",
              "      <td>A</td>\n",
              "      <td>A</td>\n",
              "      <td>A</td>\n",
              "      <td>B</td>\n",
              "      <td>A</td>\n",
              "      <td>A</td>\n",
              "      <td>A</td>\n",
              "      <td>A</td>\n",
              "      <td>A</td>\n",
              "      <td>A</td>\n",
              "      <td>A</td>\n",
              "      <td>NaN</td>\n",
              "      <td>NaN</td>\n",
              "      <td>NaN</td>\n",
              "      <td>NaN</td>\n",
              "      <td>NaN</td>\n",
              "      <td>NaN</td>\n",
              "      <td>NaN</td>\n",
              "      <td>5</td>\n",
              "      <td>5</td>\n",
              "      <td>1</td>\n",
              "      <td>1</td>\n",
              "      <td>1</td>\n",
              "      <td>1</td>\n",
              "      <td>1</td>\n",
              "      <td>NaN</td>\n",
              "      <td>A</td>\n",
              "      <td>A</td>\n",
              "      <td>C</td>\n",
              "      <td>A</td>\n",
              "      <td>B</td>\n",
              "      <td>A</td>\n",
              "      <td>A</td>\n",
              "      <td>C</td>\n",
              "      <td>A</td>\n",
              "    </tr>\n",
              "  </tbody>\n",
              "</table>\n",
              "<p>2 rows × 167 columns</p>\n",
              "</div>"
            ],
            "text/plain": [
              "   Unnamed: 0                              NU_INSCRICAO  ...  Q049  Q050\n",
              "0           1  ed50e8aaa58e7a806c337585efee9ca41f1eb1ad  ...     B     D\n",
              "1           2  2c3acac4b33ec2b195d77e7c04a2d75727fad723  ...     C     A\n",
              "\n",
              "[2 rows x 167 columns]"
            ]
          },
          "metadata": {
            "tags": []
          },
          "execution_count": 7
        }
      ]
    },
    {
      "cell_type": "code",
      "metadata": {
        "id": "DofS5oHF37u0",
        "colab_type": "code",
        "colab": {
          "base_uri": "https://localhost:8080/",
          "height": 346
        },
        "outputId": "16a4e0a6-6e2c-494f-c5fd-b21cfbdb61b9"
      },
      "source": [
        "train.describe()"
      ],
      "execution_count": 8,
      "outputs": [
        {
          "output_type": "execute_result",
          "data": {
            "text/html": [
              "<div>\n",
              "<style scoped>\n",
              "    .dataframe tbody tr th:only-of-type {\n",
              "        vertical-align: middle;\n",
              "    }\n",
              "\n",
              "    .dataframe tbody tr th {\n",
              "        vertical-align: top;\n",
              "    }\n",
              "\n",
              "    .dataframe thead th {\n",
              "        text-align: right;\n",
              "    }\n",
              "</style>\n",
              "<table border=\"1\" class=\"dataframe\">\n",
              "  <thead>\n",
              "    <tr style=\"text-align: right;\">\n",
              "      <th></th>\n",
              "      <th>Unnamed: 0</th>\n",
              "      <th>NU_ANO</th>\n",
              "      <th>CO_MUNICIPIO_RESIDENCIA</th>\n",
              "      <th>CO_UF_RESIDENCIA</th>\n",
              "      <th>NU_IDADE</th>\n",
              "      <th>TP_ESTADO_CIVIL</th>\n",
              "      <th>TP_COR_RACA</th>\n",
              "      <th>TP_NACIONALIDADE</th>\n",
              "      <th>CO_MUNICIPIO_NASCIMENTO</th>\n",
              "      <th>CO_UF_NASCIMENTO</th>\n",
              "      <th>TP_ST_CONCLUSAO</th>\n",
              "      <th>TP_ANO_CONCLUIU</th>\n",
              "      <th>TP_ESCOLA</th>\n",
              "      <th>TP_ENSINO</th>\n",
              "      <th>IN_TREINEIRO</th>\n",
              "      <th>CO_ESCOLA</th>\n",
              "      <th>CO_MUNICIPIO_ESC</th>\n",
              "      <th>CO_UF_ESC</th>\n",
              "      <th>TP_DEPENDENCIA_ADM_ESC</th>\n",
              "      <th>TP_LOCALIZACAO_ESC</th>\n",
              "      <th>TP_SIT_FUNC_ESC</th>\n",
              "      <th>IN_BAIXA_VISAO</th>\n",
              "      <th>IN_CEGUEIRA</th>\n",
              "      <th>IN_SURDEZ</th>\n",
              "      <th>IN_DEFICIENCIA_AUDITIVA</th>\n",
              "      <th>IN_SURDO_CEGUEIRA</th>\n",
              "      <th>IN_DEFICIENCIA_FISICA</th>\n",
              "      <th>IN_DEFICIENCIA_MENTAL</th>\n",
              "      <th>IN_DEFICIT_ATENCAO</th>\n",
              "      <th>IN_DISLEXIA</th>\n",
              "      <th>IN_DISCALCULIA</th>\n",
              "      <th>IN_AUTISMO</th>\n",
              "      <th>IN_VISAO_MONOCULAR</th>\n",
              "      <th>IN_OUTRA_DEF</th>\n",
              "      <th>IN_SABATISTA</th>\n",
              "      <th>IN_GESTANTE</th>\n",
              "      <th>IN_LACTANTE</th>\n",
              "      <th>IN_IDOSO</th>\n",
              "      <th>IN_ESTUDA_CLASSE_HOSPITALAR</th>\n",
              "      <th>IN_SEM_RECURSO</th>\n",
              "      <th>...</th>\n",
              "      <th>IN_SALA_INDIVIDUAL</th>\n",
              "      <th>IN_SALA_ESPECIAL</th>\n",
              "      <th>IN_SALA_ACOMPANHANTE</th>\n",
              "      <th>IN_MOBILIARIO_ESPECIFICO</th>\n",
              "      <th>IN_MATERIAL_ESPECIFICO</th>\n",
              "      <th>IN_NOME_SOCIAL</th>\n",
              "      <th>IN_CERTIFICADO</th>\n",
              "      <th>CO_UF_ENTIDADE_CERTIFICACAO</th>\n",
              "      <th>CO_MUNICIPIO_PROVA</th>\n",
              "      <th>CO_UF_PROVA</th>\n",
              "      <th>TP_PRESENCA_CN</th>\n",
              "      <th>TP_PRESENCA_CH</th>\n",
              "      <th>TP_PRESENCA_LC</th>\n",
              "      <th>TP_PRESENCA_MT</th>\n",
              "      <th>NU_NOTA_CN</th>\n",
              "      <th>NU_NOTA_CH</th>\n",
              "      <th>NU_NOTA_LC</th>\n",
              "      <th>NU_NOTA_MT</th>\n",
              "      <th>TP_LINGUA</th>\n",
              "      <th>TP_STATUS_REDACAO</th>\n",
              "      <th>NU_NOTA_COMP1</th>\n",
              "      <th>NU_NOTA_COMP2</th>\n",
              "      <th>NU_NOTA_COMP3</th>\n",
              "      <th>NU_NOTA_COMP4</th>\n",
              "      <th>NU_NOTA_COMP5</th>\n",
              "      <th>NU_NOTA_REDACAO</th>\n",
              "      <th>Q005</th>\n",
              "      <th>Q029</th>\n",
              "      <th>Q030</th>\n",
              "      <th>Q031</th>\n",
              "      <th>Q032</th>\n",
              "      <th>Q033</th>\n",
              "      <th>Q034</th>\n",
              "      <th>Q035</th>\n",
              "      <th>Q036</th>\n",
              "      <th>Q037</th>\n",
              "      <th>Q038</th>\n",
              "      <th>Q039</th>\n",
              "      <th>Q040</th>\n",
              "      <th>Q041</th>\n",
              "    </tr>\n",
              "  </thead>\n",
              "  <tbody>\n",
              "    <tr>\n",
              "      <th>count</th>\n",
              "      <td>13730.000000</td>\n",
              "      <td>13730.0</td>\n",
              "      <td>1.373000e+04</td>\n",
              "      <td>13730.000000</td>\n",
              "      <td>13730.000000</td>\n",
              "      <td>13202.000000</td>\n",
              "      <td>13730.000000</td>\n",
              "      <td>13730.000000</td>\n",
              "      <td>1.312100e+04</td>\n",
              "      <td>13121.000000</td>\n",
              "      <td>13730.000000</td>\n",
              "      <td>13730.000000</td>\n",
              "      <td>13730.000000</td>\n",
              "      <td>4282.000000</td>\n",
              "      <td>13730.000000</td>\n",
              "      <td>4.282000e+03</td>\n",
              "      <td>4.282000e+03</td>\n",
              "      <td>4282.000000</td>\n",
              "      <td>4282.000000</td>\n",
              "      <td>4282.000000</td>\n",
              "      <td>4282.000000</td>\n",
              "      <td>13730.000000</td>\n",
              "      <td>13730.0</td>\n",
              "      <td>13730.000000</td>\n",
              "      <td>13730.000000</td>\n",
              "      <td>13730.0</td>\n",
              "      <td>13730.000000</td>\n",
              "      <td>13730.000000</td>\n",
              "      <td>13730.000000</td>\n",
              "      <td>13730.000000</td>\n",
              "      <td>13730.000000</td>\n",
              "      <td>13730.0</td>\n",
              "      <td>13730.000000</td>\n",
              "      <td>13730.000000</td>\n",
              "      <td>13730.000000</td>\n",
              "      <td>13730.000000</td>\n",
              "      <td>13730.000000</td>\n",
              "      <td>13730.000000</td>\n",
              "      <td>13730.0</td>\n",
              "      <td>13730.000000</td>\n",
              "      <td>...</td>\n",
              "      <td>13730.0</td>\n",
              "      <td>13730.000000</td>\n",
              "      <td>13730.0</td>\n",
              "      <td>13730.0</td>\n",
              "      <td>13730.0</td>\n",
              "      <td>13730.000000</td>\n",
              "      <td>13730.000000</td>\n",
              "      <td>1638.000000</td>\n",
              "      <td>1.373000e+04</td>\n",
              "      <td>13730.000000</td>\n",
              "      <td>13730.000000</td>\n",
              "      <td>13730.000000</td>\n",
              "      <td>13730.000000</td>\n",
              "      <td>13730.000000</td>\n",
              "      <td>10341.000000</td>\n",
              "      <td>10341.000000</td>\n",
              "      <td>10133.000000</td>\n",
              "      <td>10133.000000</td>\n",
              "      <td>13730.000000</td>\n",
              "      <td>10133.000000</td>\n",
              "      <td>10133.000000</td>\n",
              "      <td>10133.000000</td>\n",
              "      <td>10133.000000</td>\n",
              "      <td>10133.000000</td>\n",
              "      <td>10133.000000</td>\n",
              "      <td>10133.000000</td>\n",
              "      <td>13730.000000</td>\n",
              "      <td>6355.000000</td>\n",
              "      <td>6355.000000</td>\n",
              "      <td>6354.000000</td>\n",
              "      <td>6354.000000</td>\n",
              "      <td>6354.000000</td>\n",
              "      <td>13730.000000</td>\n",
              "      <td>13730.000000</td>\n",
              "      <td>13730.000000</td>\n",
              "      <td>13730.000000</td>\n",
              "      <td>13730.000000</td>\n",
              "      <td>13730.000000</td>\n",
              "      <td>13730.000000</td>\n",
              "      <td>2938.000000</td>\n",
              "    </tr>\n",
              "    <tr>\n",
              "      <th>mean</th>\n",
              "      <td>2288.173926</td>\n",
              "      <td>2016.0</td>\n",
              "      <td>3.088548e+06</td>\n",
              "      <td>30.736708</td>\n",
              "      <td>21.593809</td>\n",
              "      <td>0.116043</td>\n",
              "      <td>2.185652</td>\n",
              "      <td>1.048871</td>\n",
              "      <td>3.057946e+06</td>\n",
              "      <td>30.429159</td>\n",
              "      <td>1.782666</td>\n",
              "      <td>2.146176</td>\n",
              "      <td>1.353532</td>\n",
              "      <td>1.178888</td>\n",
              "      <td>0.129862</td>\n",
              "      <td>3.121720e+07</td>\n",
              "      <td>3.123638e+06</td>\n",
              "      <td>31.085474</td>\n",
              "      <td>2.259692</td>\n",
              "      <td>1.030827</td>\n",
              "      <td>1.001635</td>\n",
              "      <td>0.001238</td>\n",
              "      <td>0.0</td>\n",
              "      <td>0.000364</td>\n",
              "      <td>0.000510</td>\n",
              "      <td>0.0</td>\n",
              "      <td>0.002185</td>\n",
              "      <td>0.000146</td>\n",
              "      <td>0.000947</td>\n",
              "      <td>0.000073</td>\n",
              "      <td>0.000073</td>\n",
              "      <td>0.0</td>\n",
              "      <td>0.000437</td>\n",
              "      <td>0.000510</td>\n",
              "      <td>0.009687</td>\n",
              "      <td>0.000947</td>\n",
              "      <td>0.001602</td>\n",
              "      <td>0.000146</td>\n",
              "      <td>0.0</td>\n",
              "      <td>0.004151</td>\n",
              "      <td>...</td>\n",
              "      <td>0.0</td>\n",
              "      <td>0.000073</td>\n",
              "      <td>0.0</td>\n",
              "      <td>0.0</td>\n",
              "      <td>0.0</td>\n",
              "      <td>0.000364</td>\n",
              "      <td>0.119301</td>\n",
              "      <td>30.639194</td>\n",
              "      <td>3.085637e+06</td>\n",
              "      <td>30.709250</td>\n",
              "      <td>0.754479</td>\n",
              "      <td>0.754479</td>\n",
              "      <td>0.738747</td>\n",
              "      <td>0.738747</td>\n",
              "      <td>473.495155</td>\n",
              "      <td>529.661087</td>\n",
              "      <td>516.472841</td>\n",
              "      <td>482.497928</td>\n",
              "      <td>0.593664</td>\n",
              "      <td>1.101747</td>\n",
              "      <td>119.811704</td>\n",
              "      <td>111.915918</td>\n",
              "      <td>106.824238</td>\n",
              "      <td>113.123951</td>\n",
              "      <td>77.372446</td>\n",
              "      <td>529.048258</td>\n",
              "      <td>4.083467</td>\n",
              "      <td>3.833360</td>\n",
              "      <td>2.608812</td>\n",
              "      <td>4.375984</td>\n",
              "      <td>4.530217</td>\n",
              "      <td>3.962858</td>\n",
              "      <td>4.645594</td>\n",
              "      <td>4.678441</td>\n",
              "      <td>3.341515</td>\n",
              "      <td>4.458995</td>\n",
              "      <td>3.724618</td>\n",
              "      <td>3.506409</td>\n",
              "      <td>4.442098</td>\n",
              "      <td>3.671545</td>\n",
              "    </tr>\n",
              "    <tr>\n",
              "      <th>std</th>\n",
              "      <td>1321.230607</td>\n",
              "      <td>0.0</td>\n",
              "      <td>9.890495e+05</td>\n",
              "      <td>9.862405</td>\n",
              "      <td>7.043654</td>\n",
              "      <td>0.365986</td>\n",
              "      <td>1.007285</td>\n",
              "      <td>0.258895</td>\n",
              "      <td>9.703020e+05</td>\n",
              "      <td>9.670030</td>\n",
              "      <td>0.880734</td>\n",
              "      <td>3.217328</td>\n",
              "      <td>0.558472</td>\n",
              "      <td>0.565490</td>\n",
              "      <td>0.336163</td>\n",
              "      <td>9.540289e+06</td>\n",
              "      <td>9.574114e+05</td>\n",
              "      <td>9.546193</td>\n",
              "      <td>0.698586</td>\n",
              "      <td>0.172868</td>\n",
              "      <td>0.040404</td>\n",
              "      <td>0.035167</td>\n",
              "      <td>0.0</td>\n",
              "      <td>0.019080</td>\n",
              "      <td>0.022575</td>\n",
              "      <td>0.0</td>\n",
              "      <td>0.046695</td>\n",
              "      <td>0.012069</td>\n",
              "      <td>0.030757</td>\n",
              "      <td>0.008534</td>\n",
              "      <td>0.008534</td>\n",
              "      <td>0.0</td>\n",
              "      <td>0.020901</td>\n",
              "      <td>0.022575</td>\n",
              "      <td>0.097947</td>\n",
              "      <td>0.030757</td>\n",
              "      <td>0.039998</td>\n",
              "      <td>0.012069</td>\n",
              "      <td>0.0</td>\n",
              "      <td>0.064301</td>\n",
              "      <td>...</td>\n",
              "      <td>0.0</td>\n",
              "      <td>0.008534</td>\n",
              "      <td>0.0</td>\n",
              "      <td>0.0</td>\n",
              "      <td>0.0</td>\n",
              "      <td>0.019080</td>\n",
              "      <td>0.324154</td>\n",
              "      <td>9.884543</td>\n",
              "      <td>9.888721e+05</td>\n",
              "      <td>9.860227</td>\n",
              "      <td>0.431932</td>\n",
              "      <td>0.431932</td>\n",
              "      <td>0.440162</td>\n",
              "      <td>0.440162</td>\n",
              "      <td>71.093674</td>\n",
              "      <td>73.726344</td>\n",
              "      <td>68.688190</td>\n",
              "      <td>99.826323</td>\n",
              "      <td>0.491167</td>\n",
              "      <td>0.700100</td>\n",
              "      <td>29.846017</td>\n",
              "      <td>33.737588</td>\n",
              "      <td>34.341349</td>\n",
              "      <td>33.480033</td>\n",
              "      <td>43.067140</td>\n",
              "      <td>154.294758</td>\n",
              "      <td>1.603004</td>\n",
              "      <td>1.661301</td>\n",
              "      <td>2.234009</td>\n",
              "      <td>1.210998</td>\n",
              "      <td>1.027613</td>\n",
              "      <td>1.625356</td>\n",
              "      <td>0.920998</td>\n",
              "      <td>0.865039</td>\n",
              "      <td>1.711930</td>\n",
              "      <td>1.200172</td>\n",
              "      <td>1.689362</td>\n",
              "      <td>1.718858</td>\n",
              "      <td>1.181549</td>\n",
              "      <td>1.746444</td>\n",
              "    </tr>\n",
              "    <tr>\n",
              "      <th>min</th>\n",
              "      <td>0.000000</td>\n",
              "      <td>2016.0</td>\n",
              "      <td>1.100023e+06</td>\n",
              "      <td>11.000000</td>\n",
              "      <td>13.000000</td>\n",
              "      <td>0.000000</td>\n",
              "      <td>0.000000</td>\n",
              "      <td>0.000000</td>\n",
              "      <td>1.100023e+06</td>\n",
              "      <td>11.000000</td>\n",
              "      <td>1.000000</td>\n",
              "      <td>0.000000</td>\n",
              "      <td>1.000000</td>\n",
              "      <td>1.000000</td>\n",
              "      <td>0.000000</td>\n",
              "      <td>1.100189e+07</td>\n",
              "      <td>1.100023e+06</td>\n",
              "      <td>11.000000</td>\n",
              "      <td>1.000000</td>\n",
              "      <td>1.000000</td>\n",
              "      <td>1.000000</td>\n",
              "      <td>0.000000</td>\n",
              "      <td>0.0</td>\n",
              "      <td>0.000000</td>\n",
              "      <td>0.000000</td>\n",
              "      <td>0.0</td>\n",
              "      <td>0.000000</td>\n",
              "      <td>0.000000</td>\n",
              "      <td>0.000000</td>\n",
              "      <td>0.000000</td>\n",
              "      <td>0.000000</td>\n",
              "      <td>0.0</td>\n",
              "      <td>0.000000</td>\n",
              "      <td>0.000000</td>\n",
              "      <td>0.000000</td>\n",
              "      <td>0.000000</td>\n",
              "      <td>0.000000</td>\n",
              "      <td>0.000000</td>\n",
              "      <td>0.0</td>\n",
              "      <td>0.000000</td>\n",
              "      <td>...</td>\n",
              "      <td>0.0</td>\n",
              "      <td>0.000000</td>\n",
              "      <td>0.0</td>\n",
              "      <td>0.0</td>\n",
              "      <td>0.0</td>\n",
              "      <td>0.000000</td>\n",
              "      <td>0.000000</td>\n",
              "      <td>11.000000</td>\n",
              "      <td>1.100023e+06</td>\n",
              "      <td>11.000000</td>\n",
              "      <td>0.000000</td>\n",
              "      <td>0.000000</td>\n",
              "      <td>0.000000</td>\n",
              "      <td>0.000000</td>\n",
              "      <td>0.000000</td>\n",
              "      <td>0.000000</td>\n",
              "      <td>0.000000</td>\n",
              "      <td>0.000000</td>\n",
              "      <td>0.000000</td>\n",
              "      <td>1.000000</td>\n",
              "      <td>0.000000</td>\n",
              "      <td>0.000000</td>\n",
              "      <td>0.000000</td>\n",
              "      <td>0.000000</td>\n",
              "      <td>0.000000</td>\n",
              "      <td>0.000000</td>\n",
              "      <td>1.000000</td>\n",
              "      <td>0.000000</td>\n",
              "      <td>0.000000</td>\n",
              "      <td>0.000000</td>\n",
              "      <td>0.000000</td>\n",
              "      <td>0.000000</td>\n",
              "      <td>0.000000</td>\n",
              "      <td>0.000000</td>\n",
              "      <td>0.000000</td>\n",
              "      <td>0.000000</td>\n",
              "      <td>0.000000</td>\n",
              "      <td>0.000000</td>\n",
              "      <td>0.000000</td>\n",
              "      <td>0.000000</td>\n",
              "    </tr>\n",
              "    <tr>\n",
              "      <th>25%</th>\n",
              "      <td>1144.000000</td>\n",
              "      <td>2016.0</td>\n",
              "      <td>2.307650e+06</td>\n",
              "      <td>23.000000</td>\n",
              "      <td>17.000000</td>\n",
              "      <td>0.000000</td>\n",
              "      <td>1.000000</td>\n",
              "      <td>1.000000</td>\n",
              "      <td>2.306900e+06</td>\n",
              "      <td>23.000000</td>\n",
              "      <td>1.000000</td>\n",
              "      <td>0.000000</td>\n",
              "      <td>1.000000</td>\n",
              "      <td>1.000000</td>\n",
              "      <td>0.000000</td>\n",
              "      <td>2.316566e+07</td>\n",
              "      <td>2.308377e+06</td>\n",
              "      <td>23.000000</td>\n",
              "      <td>2.000000</td>\n",
              "      <td>1.000000</td>\n",
              "      <td>1.000000</td>\n",
              "      <td>0.000000</td>\n",
              "      <td>0.0</td>\n",
              "      <td>0.000000</td>\n",
              "      <td>0.000000</td>\n",
              "      <td>0.0</td>\n",
              "      <td>0.000000</td>\n",
              "      <td>0.000000</td>\n",
              "      <td>0.000000</td>\n",
              "      <td>0.000000</td>\n",
              "      <td>0.000000</td>\n",
              "      <td>0.0</td>\n",
              "      <td>0.000000</td>\n",
              "      <td>0.000000</td>\n",
              "      <td>0.000000</td>\n",
              "      <td>0.000000</td>\n",
              "      <td>0.000000</td>\n",
              "      <td>0.000000</td>\n",
              "      <td>0.0</td>\n",
              "      <td>0.000000</td>\n",
              "      <td>...</td>\n",
              "      <td>0.0</td>\n",
              "      <td>0.000000</td>\n",
              "      <td>0.0</td>\n",
              "      <td>0.0</td>\n",
              "      <td>0.0</td>\n",
              "      <td>0.000000</td>\n",
              "      <td>0.000000</td>\n",
              "      <td>23.000000</td>\n",
              "      <td>2.307650e+06</td>\n",
              "      <td>23.000000</td>\n",
              "      <td>1.000000</td>\n",
              "      <td>1.000000</td>\n",
              "      <td>0.000000</td>\n",
              "      <td>0.000000</td>\n",
              "      <td>419.900000</td>\n",
              "      <td>480.400000</td>\n",
              "      <td>468.100000</td>\n",
              "      <td>408.900000</td>\n",
              "      <td>0.000000</td>\n",
              "      <td>1.000000</td>\n",
              "      <td>120.000000</td>\n",
              "      <td>100.000000</td>\n",
              "      <td>80.000000</td>\n",
              "      <td>100.000000</td>\n",
              "      <td>40.000000</td>\n",
              "      <td>440.000000</td>\n",
              "      <td>3.000000</td>\n",
              "      <td>3.000000</td>\n",
              "      <td>0.000000</td>\n",
              "      <td>4.000000</td>\n",
              "      <td>5.000000</td>\n",
              "      <td>3.000000</td>\n",
              "      <td>5.000000</td>\n",
              "      <td>5.000000</td>\n",
              "      <td>2.000000</td>\n",
              "      <td>5.000000</td>\n",
              "      <td>3.000000</td>\n",
              "      <td>2.000000</td>\n",
              "      <td>4.000000</td>\n",
              "      <td>3.000000</td>\n",
              "    </tr>\n",
              "    <tr>\n",
              "      <th>50%</th>\n",
              "      <td>2288.000000</td>\n",
              "      <td>2016.0</td>\n",
              "      <td>3.118601e+06</td>\n",
              "      <td>31.000000</td>\n",
              "      <td>19.000000</td>\n",
              "      <td>0.000000</td>\n",
              "      <td>3.000000</td>\n",
              "      <td>1.000000</td>\n",
              "      <td>3.106200e+06</td>\n",
              "      <td>31.000000</td>\n",
              "      <td>2.000000</td>\n",
              "      <td>0.000000</td>\n",
              "      <td>1.000000</td>\n",
              "      <td>1.000000</td>\n",
              "      <td>0.000000</td>\n",
              "      <td>3.112482e+07</td>\n",
              "      <td>3.142908e+06</td>\n",
              "      <td>31.000000</td>\n",
              "      <td>2.000000</td>\n",
              "      <td>1.000000</td>\n",
              "      <td>1.000000</td>\n",
              "      <td>0.000000</td>\n",
              "      <td>0.0</td>\n",
              "      <td>0.000000</td>\n",
              "      <td>0.000000</td>\n",
              "      <td>0.0</td>\n",
              "      <td>0.000000</td>\n",
              "      <td>0.000000</td>\n",
              "      <td>0.000000</td>\n",
              "      <td>0.000000</td>\n",
              "      <td>0.000000</td>\n",
              "      <td>0.0</td>\n",
              "      <td>0.000000</td>\n",
              "      <td>0.000000</td>\n",
              "      <td>0.000000</td>\n",
              "      <td>0.000000</td>\n",
              "      <td>0.000000</td>\n",
              "      <td>0.000000</td>\n",
              "      <td>0.0</td>\n",
              "      <td>0.000000</td>\n",
              "      <td>...</td>\n",
              "      <td>0.0</td>\n",
              "      <td>0.000000</td>\n",
              "      <td>0.0</td>\n",
              "      <td>0.0</td>\n",
              "      <td>0.0</td>\n",
              "      <td>0.000000</td>\n",
              "      <td>0.000000</td>\n",
              "      <td>31.000000</td>\n",
              "      <td>3.111200e+06</td>\n",
              "      <td>31.000000</td>\n",
              "      <td>1.000000</td>\n",
              "      <td>1.000000</td>\n",
              "      <td>1.000000</td>\n",
              "      <td>1.000000</td>\n",
              "      <td>459.800000</td>\n",
              "      <td>532.000000</td>\n",
              "      <td>520.900000</td>\n",
              "      <td>461.200000</td>\n",
              "      <td>1.000000</td>\n",
              "      <td>1.000000</td>\n",
              "      <td>120.000000</td>\n",
              "      <td>120.000000</td>\n",
              "      <td>120.000000</td>\n",
              "      <td>120.000000</td>\n",
              "      <td>80.000000</td>\n",
              "      <td>540.000000</td>\n",
              "      <td>4.000000</td>\n",
              "      <td>5.000000</td>\n",
              "      <td>3.000000</td>\n",
              "      <td>5.000000</td>\n",
              "      <td>5.000000</td>\n",
              "      <td>5.000000</td>\n",
              "      <td>5.000000</td>\n",
              "      <td>5.000000</td>\n",
              "      <td>4.000000</td>\n",
              "      <td>5.000000</td>\n",
              "      <td>5.000000</td>\n",
              "      <td>4.000000</td>\n",
              "      <td>5.000000</td>\n",
              "      <td>5.000000</td>\n",
              "    </tr>\n",
              "    <tr>\n",
              "      <th>75%</th>\n",
              "      <td>3432.000000</td>\n",
              "      <td>2016.0</td>\n",
              "      <td>3.550308e+06</td>\n",
              "      <td>35.000000</td>\n",
              "      <td>23.000000</td>\n",
              "      <td>0.000000</td>\n",
              "      <td>3.000000</td>\n",
              "      <td>1.000000</td>\n",
              "      <td>3.549805e+06</td>\n",
              "      <td>35.000000</td>\n",
              "      <td>2.000000</td>\n",
              "      <td>3.000000</td>\n",
              "      <td>2.000000</td>\n",
              "      <td>1.000000</td>\n",
              "      <td>0.000000</td>\n",
              "      <td>3.516519e+07</td>\n",
              "      <td>3.550308e+06</td>\n",
              "      <td>35.000000</td>\n",
              "      <td>2.000000</td>\n",
              "      <td>1.000000</td>\n",
              "      <td>1.000000</td>\n",
              "      <td>0.000000</td>\n",
              "      <td>0.0</td>\n",
              "      <td>0.000000</td>\n",
              "      <td>0.000000</td>\n",
              "      <td>0.0</td>\n",
              "      <td>0.000000</td>\n",
              "      <td>0.000000</td>\n",
              "      <td>0.000000</td>\n",
              "      <td>0.000000</td>\n",
              "      <td>0.000000</td>\n",
              "      <td>0.0</td>\n",
              "      <td>0.000000</td>\n",
              "      <td>0.000000</td>\n",
              "      <td>0.000000</td>\n",
              "      <td>0.000000</td>\n",
              "      <td>0.000000</td>\n",
              "      <td>0.000000</td>\n",
              "      <td>0.0</td>\n",
              "      <td>0.000000</td>\n",
              "      <td>...</td>\n",
              "      <td>0.0</td>\n",
              "      <td>0.000000</td>\n",
              "      <td>0.0</td>\n",
              "      <td>0.0</td>\n",
              "      <td>0.0</td>\n",
              "      <td>0.000000</td>\n",
              "      <td>0.000000</td>\n",
              "      <td>35.000000</td>\n",
              "      <td>3.549805e+06</td>\n",
              "      <td>35.000000</td>\n",
              "      <td>1.000000</td>\n",
              "      <td>1.000000</td>\n",
              "      <td>1.000000</td>\n",
              "      <td>1.000000</td>\n",
              "      <td>514.500000</td>\n",
              "      <td>581.200000</td>\n",
              "      <td>564.900000</td>\n",
              "      <td>537.600000</td>\n",
              "      <td>1.000000</td>\n",
              "      <td>1.000000</td>\n",
              "      <td>140.000000</td>\n",
              "      <td>120.000000</td>\n",
              "      <td>120.000000</td>\n",
              "      <td>120.000000</td>\n",
              "      <td>100.000000</td>\n",
              "      <td>600.000000</td>\n",
              "      <td>5.000000</td>\n",
              "      <td>5.000000</td>\n",
              "      <td>5.000000</td>\n",
              "      <td>5.000000</td>\n",
              "      <td>5.000000</td>\n",
              "      <td>5.000000</td>\n",
              "      <td>5.000000</td>\n",
              "      <td>5.000000</td>\n",
              "      <td>5.000000</td>\n",
              "      <td>5.000000</td>\n",
              "      <td>5.000000</td>\n",
              "      <td>5.000000</td>\n",
              "      <td>5.000000</td>\n",
              "      <td>5.000000</td>\n",
              "    </tr>\n",
              "    <tr>\n",
              "      <th>max</th>\n",
              "      <td>4586.000000</td>\n",
              "      <td>2016.0</td>\n",
              "      <td>5.300108e+06</td>\n",
              "      <td>53.000000</td>\n",
              "      <td>67.000000</td>\n",
              "      <td>3.000000</td>\n",
              "      <td>5.000000</td>\n",
              "      <td>4.000000</td>\n",
              "      <td>5.300108e+06</td>\n",
              "      <td>53.000000</td>\n",
              "      <td>4.000000</td>\n",
              "      <td>10.000000</td>\n",
              "      <td>4.000000</td>\n",
              "      <td>3.000000</td>\n",
              "      <td>1.000000</td>\n",
              "      <td>5.306809e+07</td>\n",
              "      <td>5.300108e+06</td>\n",
              "      <td>53.000000</td>\n",
              "      <td>4.000000</td>\n",
              "      <td>2.000000</td>\n",
              "      <td>2.000000</td>\n",
              "      <td>1.000000</td>\n",
              "      <td>0.0</td>\n",
              "      <td>1.000000</td>\n",
              "      <td>1.000000</td>\n",
              "      <td>0.0</td>\n",
              "      <td>1.000000</td>\n",
              "      <td>1.000000</td>\n",
              "      <td>1.000000</td>\n",
              "      <td>1.000000</td>\n",
              "      <td>1.000000</td>\n",
              "      <td>0.0</td>\n",
              "      <td>1.000000</td>\n",
              "      <td>1.000000</td>\n",
              "      <td>1.000000</td>\n",
              "      <td>1.000000</td>\n",
              "      <td>1.000000</td>\n",
              "      <td>1.000000</td>\n",
              "      <td>0.0</td>\n",
              "      <td>1.000000</td>\n",
              "      <td>...</td>\n",
              "      <td>0.0</td>\n",
              "      <td>1.000000</td>\n",
              "      <td>0.0</td>\n",
              "      <td>0.0</td>\n",
              "      <td>0.0</td>\n",
              "      <td>1.000000</td>\n",
              "      <td>1.000000</td>\n",
              "      <td>53.000000</td>\n",
              "      <td>5.300108e+06</td>\n",
              "      <td>53.000000</td>\n",
              "      <td>2.000000</td>\n",
              "      <td>2.000000</td>\n",
              "      <td>2.000000</td>\n",
              "      <td>2.000000</td>\n",
              "      <td>806.400000</td>\n",
              "      <td>807.000000</td>\n",
              "      <td>763.600000</td>\n",
              "      <td>952.000000</td>\n",
              "      <td>1.000000</td>\n",
              "      <td>9.000000</td>\n",
              "      <td>200.000000</td>\n",
              "      <td>200.000000</td>\n",
              "      <td>200.000000</td>\n",
              "      <td>200.000000</td>\n",
              "      <td>200.000000</td>\n",
              "      <td>1000.000000</td>\n",
              "      <td>20.000000</td>\n",
              "      <td>5.000000</td>\n",
              "      <td>5.000000</td>\n",
              "      <td>5.000000</td>\n",
              "      <td>5.000000</td>\n",
              "      <td>5.000000</td>\n",
              "      <td>5.000000</td>\n",
              "      <td>5.000000</td>\n",
              "      <td>5.000000</td>\n",
              "      <td>5.000000</td>\n",
              "      <td>5.000000</td>\n",
              "      <td>5.000000</td>\n",
              "      <td>5.000000</td>\n",
              "      <td>5.000000</td>\n",
              "    </tr>\n",
              "  </tbody>\n",
              "</table>\n",
              "<p>8 rows × 107 columns</p>\n",
              "</div>"
            ],
            "text/plain": [
              "         Unnamed: 0   NU_ANO  ...          Q040         Q041\n",
              "count  13730.000000  13730.0  ...  13730.000000  2938.000000\n",
              "mean    2288.173926   2016.0  ...      4.442098     3.671545\n",
              "std     1321.230607      0.0  ...      1.181549     1.746444\n",
              "min        0.000000   2016.0  ...      0.000000     0.000000\n",
              "25%     1144.000000   2016.0  ...      4.000000     3.000000\n",
              "50%     2288.000000   2016.0  ...      5.000000     5.000000\n",
              "75%     3432.000000   2016.0  ...      5.000000     5.000000\n",
              "max     4586.000000   2016.0  ...      5.000000     5.000000\n",
              "\n",
              "[8 rows x 107 columns]"
            ]
          },
          "metadata": {
            "tags": []
          },
          "execution_count": 8
        }
      ]
    },
    {
      "cell_type": "code",
      "metadata": {
        "id": "4Fa9_AxV3v_X",
        "colab_type": "code",
        "colab": {
          "base_uri": "https://localhost:8080/",
          "height": 102
        },
        "outputId": "5112a28c-464e-4b82-f0e7-f4c06f12a498"
      },
      "source": [
        "train.info()"
      ],
      "execution_count": 10,
      "outputs": [
        {
          "output_type": "stream",
          "text": [
            "<class 'pandas.core.frame.DataFrame'>\n",
            "RangeIndex: 13730 entries, 0 to 13729\n",
            "Columns: 167 entries, Unnamed: 0 to Q050\n",
            "dtypes: float64(28), int64(79), object(60)\n",
            "memory usage: 17.5+ MB\n"
          ],
          "name": "stdout"
        }
      ]
    },
    {
      "cell_type": "code",
      "metadata": {
        "id": "iOYxAIDw4EX0",
        "colab_type": "code",
        "colab": {
          "base_uri": "https://localhost:8080/",
          "height": 221
        },
        "outputId": "3ec095cc-8d31-4a78-e7ff-d806beb951e0"
      },
      "source": [
        "train.isna().sum().sort_values(ascending=False) # nulos"
      ],
      "execution_count": 11,
      "outputs": [
        {
          "output_type": "execute_result",
          "data": {
            "text/plain": [
              "CO_UF_ENTIDADE_CERTIFICACAO    12092\n",
              "NO_ENTIDADE_CERTIFICACAO       12092\n",
              "SG_UF_ENTIDADE_CERTIFICACAO    12092\n",
              "Q041                           10792\n",
              "TP_SIT_FUNC_ESC                 9448\n",
              "                               ...  \n",
              "Q002                               0\n",
              "Q003                               0\n",
              "Q004                               0\n",
              "Q005                               0\n",
              "Unnamed: 0                         0\n",
              "Length: 167, dtype: int64"
            ]
          },
          "metadata": {
            "tags": []
          },
          "execution_count": 11
        }
      ]
    },
    {
      "cell_type": "code",
      "metadata": {
        "id": "C5HKJWPH3x8v",
        "colab_type": "code",
        "colab": {
          "base_uri": "https://localhost:8080/",
          "height": 34
        },
        "outputId": "2d4f271f-1645-4443-ec63-9e1adfd7ada5"
      },
      "source": [
        "train.isna().sum().sum() # valor total de nulos"
      ],
      "execution_count": 12,
      "outputs": [
        {
          "output_type": "execute_result",
          "data": {
            "text/plain": [
              "253786"
            ]
          },
          "metadata": {
            "tags": []
          },
          "execution_count": 12
        }
      ]
    },
    {
      "cell_type": "code",
      "metadata": {
        "id": "egVpP1lq4fe4",
        "colab_type": "code",
        "colab": {
          "base_uri": "https://localhost:8080/",
          "height": 34
        },
        "outputId": "c7bdf3ed-dbea-4833-d4e0-c58ab5252feb"
      },
      "source": [
        "#verificando se os datasets possuem as mesmas classes de entrada\n",
        "comparar = train\n",
        "comparar = comparar.drop('NU_NOTA_MT',axis=1) #o dataset test não tem essa coluna, por isso ela é removida\n",
        "verifica = set(comparar.columns).issubset(set(test.columns))\n",
        "if verifica:\n",
        "    print('Ambos os datasets POSSUEM as mesmas colunas - Saida:', verifica)\n",
        "else:\n",
        "    print('Ambos os datasets NÃO POSSUEM as mesmas colunas - Saida:', verifica)"
      ],
      "execution_count": 13,
      "outputs": [
        {
          "output_type": "stream",
          "text": [
            "Ambos os datasets NÃO POSSUEM as mesmas colunas - Saida: False\n"
          ],
          "name": "stdout"
        }
      ]
    },
    {
      "cell_type": "code",
      "metadata": {
        "id": "i8fTDpW24nyN",
        "colab_type": "code",
        "colab": {
          "base_uri": "https://localhost:8080/",
          "height": 306
        },
        "outputId": "ae73a986-9822-4d96-ebd7-58825ae47332"
      },
      "source": [
        "#verificação de quais features o dataset test possue.\n",
        "\n",
        "print('FEATURES DO DATASET (test):')\n",
        "print()\n",
        "colunas = test.columns\n",
        "leng,step = len(colunas)-3,3\n",
        "for i in range(0,leng,step):  \n",
        "    print(colunas[i],'|',colunas[i+1],'|',colunas[i+2])"
      ],
      "execution_count": 18,
      "outputs": [
        {
          "output_type": "stream",
          "text": [
            "FEATURES DO DATASET (test):\n",
            "\n",
            "NU_INSCRICAO | CO_UF_RESIDENCIA | SG_UF_RESIDENCIA\n",
            "NU_IDADE | TP_SEXO | TP_COR_RACA\n",
            "TP_NACIONALIDADE | TP_ST_CONCLUSAO | TP_ANO_CONCLUIU\n",
            "TP_ESCOLA | TP_ENSINO | IN_TREINEIRO\n",
            "TP_DEPENDENCIA_ADM_ESC | IN_BAIXA_VISAO | IN_CEGUEIRA\n",
            "IN_SURDEZ | IN_DISLEXIA | IN_DISCALCULIA\n",
            "IN_SABATISTA | IN_GESTANTE | IN_IDOSO\n",
            "TP_PRESENCA_CN | TP_PRESENCA_CH | TP_PRESENCA_LC\n",
            "CO_PROVA_CN | CO_PROVA_CH | CO_PROVA_LC\n",
            "CO_PROVA_MT | NU_NOTA_CN | NU_NOTA_CH\n",
            "NU_NOTA_LC | TP_LINGUA | TP_STATUS_REDACAO\n",
            "NU_NOTA_COMP1 | NU_NOTA_COMP2 | NU_NOTA_COMP3\n",
            "NU_NOTA_COMP4 | NU_NOTA_COMP5 | NU_NOTA_REDACAO\n",
            "Q001 | Q002 | Q006\n",
            "Q024 | Q025 | Q026\n"
          ],
          "name": "stdout"
        }
      ]
    },
    {
      "cell_type": "code",
      "metadata": {
        "id": "_bLPwYp4960U",
        "colab_type": "code",
        "colab": {
          "base_uri": "https://localhost:8080/",
          "height": 235
        },
        "outputId": "4b17e7f7-8803-409b-8b2f-f680c852d934"
      },
      "source": [
        "#Qual nota de competencia tem melhor correlação com a nota de matematica?\n",
        "\n",
        "var = ['NU_NOTA_MT','NU_NOTA_COMP1','NU_NOTA_COMP2','NU_NOTA_COMP3','NU_NOTA_COMP4','NU_NOTA_COMP5']\n",
        "train[var].corr()"
      ],
      "execution_count": 19,
      "outputs": [
        {
          "output_type": "execute_result",
          "data": {
            "text/html": [
              "<div>\n",
              "<style scoped>\n",
              "    .dataframe tbody tr th:only-of-type {\n",
              "        vertical-align: middle;\n",
              "    }\n",
              "\n",
              "    .dataframe tbody tr th {\n",
              "        vertical-align: top;\n",
              "    }\n",
              "\n",
              "    .dataframe thead th {\n",
              "        text-align: right;\n",
              "    }\n",
              "</style>\n",
              "<table border=\"1\" class=\"dataframe\">\n",
              "  <thead>\n",
              "    <tr style=\"text-align: right;\">\n",
              "      <th></th>\n",
              "      <th>NU_NOTA_MT</th>\n",
              "      <th>NU_NOTA_COMP1</th>\n",
              "      <th>NU_NOTA_COMP2</th>\n",
              "      <th>NU_NOTA_COMP3</th>\n",
              "      <th>NU_NOTA_COMP4</th>\n",
              "      <th>NU_NOTA_COMP5</th>\n",
              "    </tr>\n",
              "  </thead>\n",
              "  <tbody>\n",
              "    <tr>\n",
              "      <th>NU_NOTA_MT</th>\n",
              "      <td>1.000000</td>\n",
              "      <td>0.299402</td>\n",
              "      <td>0.335638</td>\n",
              "      <td>0.350307</td>\n",
              "      <td>0.342282</td>\n",
              "      <td>0.343337</td>\n",
              "    </tr>\n",
              "    <tr>\n",
              "      <th>NU_NOTA_COMP1</th>\n",
              "      <td>0.299402</td>\n",
              "      <td>1.000000</td>\n",
              "      <td>0.756664</td>\n",
              "      <td>0.759452</td>\n",
              "      <td>0.824538</td>\n",
              "      <td>0.558587</td>\n",
              "    </tr>\n",
              "    <tr>\n",
              "      <th>NU_NOTA_COMP2</th>\n",
              "      <td>0.335638</td>\n",
              "      <td>0.756664</td>\n",
              "      <td>1.000000</td>\n",
              "      <td>0.875447</td>\n",
              "      <td>0.808006</td>\n",
              "      <td>0.655915</td>\n",
              "    </tr>\n",
              "    <tr>\n",
              "      <th>NU_NOTA_COMP3</th>\n",
              "      <td>0.350307</td>\n",
              "      <td>0.759452</td>\n",
              "      <td>0.875447</td>\n",
              "      <td>1.000000</td>\n",
              "      <td>0.827151</td>\n",
              "      <td>0.664350</td>\n",
              "    </tr>\n",
              "    <tr>\n",
              "      <th>NU_NOTA_COMP4</th>\n",
              "      <td>0.342282</td>\n",
              "      <td>0.824538</td>\n",
              "      <td>0.808006</td>\n",
              "      <td>0.827151</td>\n",
              "      <td>1.000000</td>\n",
              "      <td>0.635018</td>\n",
              "    </tr>\n",
              "    <tr>\n",
              "      <th>NU_NOTA_COMP5</th>\n",
              "      <td>0.343337</td>\n",
              "      <td>0.558587</td>\n",
              "      <td>0.655915</td>\n",
              "      <td>0.664350</td>\n",
              "      <td>0.635018</td>\n",
              "      <td>1.000000</td>\n",
              "    </tr>\n",
              "  </tbody>\n",
              "</table>\n",
              "</div>"
            ],
            "text/plain": [
              "               NU_NOTA_MT  NU_NOTA_COMP1  ...  NU_NOTA_COMP4  NU_NOTA_COMP5\n",
              "NU_NOTA_MT       1.000000       0.299402  ...       0.342282       0.343337\n",
              "NU_NOTA_COMP1    0.299402       1.000000  ...       0.824538       0.558587\n",
              "NU_NOTA_COMP2    0.335638       0.756664  ...       0.808006       0.655915\n",
              "NU_NOTA_COMP3    0.350307       0.759452  ...       0.827151       0.664350\n",
              "NU_NOTA_COMP4    0.342282       0.824538  ...       1.000000       0.635018\n",
              "NU_NOTA_COMP5    0.343337       0.558587  ...       0.635018       1.000000\n",
              "\n",
              "[6 rows x 6 columns]"
            ]
          },
          "metadata": {
            "tags": []
          },
          "execution_count": 19
        }
      ]
    },
    {
      "cell_type": "markdown",
      "metadata": {
        "id": "fABcaA1D-a14",
        "colab_type": "text"
      },
      "source": [
        "A melhor correlação foi com a feature ['NU_NOTA_COMP3'], conforme a tabela de correlação.\n"
      ]
    },
    {
      "cell_type": "code",
      "metadata": {
        "id": "jrMRR1qO-UCS",
        "colab_type": "code",
        "colab": {}
      },
      "source": [
        "# Criando dataset com as features necessárias para o problema\n",
        "train_new = {\n",
        "    'mat': train['NU_NOTA_MT'],\n",
        "    'cien_n': train['NU_NOTA_CN'],\n",
        "    'ling_c': train['NU_NOTA_LC'],\n",
        "    'cien_h': train['NU_NOTA_CH'],\n",
        "    'redacao': train['NU_NOTA_REDACAO'],\n",
        "    'nota_comp3': train['NU_NOTA_COMP3']\n",
        "}"
      ],
      "execution_count": 22,
      "outputs": []
    },
    {
      "cell_type": "code",
      "metadata": {
        "id": "xSQ4Agx9AKdL",
        "colab_type": "code",
        "colab": {}
      },
      "source": [
        "#Substituindo o dataset train antigo\n",
        "\n",
        "train = pd.DataFrame(train_new)"
      ],
      "execution_count": 23,
      "outputs": []
    },
    {
      "cell_type": "code",
      "metadata": {
        "id": "nmhVU6UMAYn_",
        "colab_type": "code",
        "colab": {}
      },
      "source": [
        "#Removendo elementos com dados faltantes\n",
        "train = train.dropna(axis=0, how='any')"
      ],
      "execution_count": 24,
      "outputs": []
    },
    {
      "cell_type": "code",
      "metadata": {
        "id": "U6cvyvY5Aj-a",
        "colab_type": "code",
        "colab": {
          "base_uri": "https://localhost:8080/",
          "height": 136
        },
        "outputId": "91d88e4b-9502-4d6b-db0a-3f082d891384"
      },
      "source": [
        "train.isna().sum()"
      ],
      "execution_count": 28,
      "outputs": [
        {
          "output_type": "execute_result",
          "data": {
            "text/plain": [
              "mat           0\n",
              "cien_n        0\n",
              "ling_c        0\n",
              "cien_h        0\n",
              "redacao       0\n",
              "nota_comp3    0\n",
              "dtype: int64"
            ]
          },
          "metadata": {
            "tags": []
          },
          "execution_count": 28
        }
      ]
    },
    {
      "cell_type": "code",
      "metadata": {
        "id": "h2nOXxpuAiQK",
        "colab_type": "code",
        "colab": {
          "base_uri": "https://localhost:8080/",
          "height": 111
        },
        "outputId": "f221a2b8-2bde-4a33-801d-16243576d319"
      },
      "source": [
        "train.head(2)"
      ],
      "execution_count": 26,
      "outputs": [
        {
          "output_type": "execute_result",
          "data": {
            "text/html": [
              "<div>\n",
              "<style scoped>\n",
              "    .dataframe tbody tr th:only-of-type {\n",
              "        vertical-align: middle;\n",
              "    }\n",
              "\n",
              "    .dataframe tbody tr th {\n",
              "        vertical-align: top;\n",
              "    }\n",
              "\n",
              "    .dataframe thead th {\n",
              "        text-align: right;\n",
              "    }\n",
              "</style>\n",
              "<table border=\"1\" class=\"dataframe\">\n",
              "  <thead>\n",
              "    <tr style=\"text-align: right;\">\n",
              "      <th></th>\n",
              "      <th>mat</th>\n",
              "      <th>cien_n</th>\n",
              "      <th>ling_c</th>\n",
              "      <th>cien_h</th>\n",
              "      <th>redacao</th>\n",
              "      <th>nota_comp3</th>\n",
              "    </tr>\n",
              "  </thead>\n",
              "  <tbody>\n",
              "    <tr>\n",
              "      <th>0</th>\n",
              "      <td>399.4</td>\n",
              "      <td>436.3</td>\n",
              "      <td>581.2</td>\n",
              "      <td>495.4</td>\n",
              "      <td>520.0</td>\n",
              "      <td>120.0</td>\n",
              "    </tr>\n",
              "    <tr>\n",
              "      <th>1</th>\n",
              "      <td>459.8</td>\n",
              "      <td>474.5</td>\n",
              "      <td>599.0</td>\n",
              "      <td>544.1</td>\n",
              "      <td>580.0</td>\n",
              "      <td>120.0</td>\n",
              "    </tr>\n",
              "  </tbody>\n",
              "</table>\n",
              "</div>"
            ],
            "text/plain": [
              "     mat  cien_n  ling_c  cien_h  redacao  nota_comp3\n",
              "0  399.4   436.3   581.2   495.4    520.0       120.0\n",
              "1  459.8   474.5   599.0   544.1    580.0       120.0"
            ]
          },
          "metadata": {
            "tags": []
          },
          "execution_count": 26
        }
      ]
    },
    {
      "cell_type": "code",
      "metadata": {
        "id": "vgeai158An15",
        "colab_type": "code",
        "colab": {}
      },
      "source": [
        "# Função 1 - Criação uma nova coluna com a media das notas\n",
        "\n",
        "def media(nota1,nota2,nota3,nota4,nota5):\n",
        "    total_media = []\n",
        "    for i in range(len(nota1)):\n",
        "        result = nota1[i]+nota2[i]+nota3[i]+nota4[i]+nota5[i]/5\n",
        "        total_media.append(result)\n",
        "    return total_media\n",
        "\n",
        "# Função 2 - Plotar grafico para comparação\n",
        "\n",
        "\n",
        "def grafico(previsao,real,nome):\n",
        "    previsao = np.array(previsao)\n",
        "    real = np.array(real)\n",
        "    \n",
        "    erro_mae = mean_absolute_error(real,previsao)\n",
        "    \n",
        "    y1 = previsao[:50]\n",
        "    x1 = range(len(y1))\n",
        "    y2 = real[:50]\n",
        "    x2 = range(len(y2))\n",
        "    \n",
        "\n",
        "    plt.title('Gráfico de Predições:' + nome)\n",
        "    plt.xlabel('Média percentual do desvio absoluto (MAPE): ' + str(erro_mae))\n",
        "    plt.ylabel('Valores')\n",
        "\n",
        "    plt.plot(x1,y1,color='#51b521',linestyle='--',label='Predita')\n",
        "    plt.plot(x2,y2,color='#222325',linestyle='-.', label = 'Esperada')\n",
        "    plt.legend()\n",
        "    plt.show()\n",
        "\n",
        "#Função 3 - Reduzir escala dos dados\n",
        "def reducao_on(train):\n",
        "    train = train /100\n",
        "    return train\n",
        "\n",
        "#Função 4 - Retornar os dados que foram reduzidos\n",
        "def reducao_off(train):\n",
        "    train = train*100\n",
        "    return train\n",
        "\n",
        "#Definindo função para plotar grafico de comparação\n",
        "def grafico_mape(xy1,xy2,xy3,title):\n",
        "    plt.suptitle('Média percentual do desvio absoluto (MAPE)')\n",
        "    plt.title(title)\n",
        "    plt.ylabel('MAPE')\n",
        "    plt.xlabel('Menor erro = Melhor desempenho')\n",
        "\n",
        "    plt.bar(xy1[0],xy1[1])\n",
        "    plt.bar(xy2[0],xy2[1])\n",
        "    plt.bar(xy3[0],xy3[1])\n",
        "    plt.show()\n",
        "\n",
        "tst_size = 0.10"
      ],
      "execution_count": 44,
      "outputs": []
    },
    {
      "cell_type": "code",
      "metadata": {
        "id": "lJ0zKcP8BQxI",
        "colab_type": "code",
        "colab": {
          "base_uri": "https://localhost:8080/",
          "height": 204
        },
        "outputId": "3e83b401-df50-40ed-e317-58daebbf42d0"
      },
      "source": [
        "#Criar coluna media\n",
        "train['media'] = media(np.array(train.mat),np.array(train.cien_n),np.array(train.ling_c),np.array(train.cien_h),np.array(train.redacao))\n",
        "train.head()"
      ],
      "execution_count": 41,
      "outputs": [
        {
          "output_type": "execute_result",
          "data": {
            "text/html": [
              "<div>\n",
              "<style scoped>\n",
              "    .dataframe tbody tr th:only-of-type {\n",
              "        vertical-align: middle;\n",
              "    }\n",
              "\n",
              "    .dataframe tbody tr th {\n",
              "        vertical-align: top;\n",
              "    }\n",
              "\n",
              "    .dataframe thead th {\n",
              "        text-align: right;\n",
              "    }\n",
              "</style>\n",
              "<table border=\"1\" class=\"dataframe\">\n",
              "  <thead>\n",
              "    <tr style=\"text-align: right;\">\n",
              "      <th></th>\n",
              "      <th>mat</th>\n",
              "      <th>cien_n</th>\n",
              "      <th>ling_c</th>\n",
              "      <th>cien_h</th>\n",
              "      <th>redacao</th>\n",
              "      <th>nota_comp3</th>\n",
              "      <th>media</th>\n",
              "    </tr>\n",
              "  </thead>\n",
              "  <tbody>\n",
              "    <tr>\n",
              "      <th>0</th>\n",
              "      <td>399.4</td>\n",
              "      <td>436.3</td>\n",
              "      <td>581.2</td>\n",
              "      <td>495.4</td>\n",
              "      <td>520.0</td>\n",
              "      <td>120.0</td>\n",
              "      <td>2016.3</td>\n",
              "    </tr>\n",
              "    <tr>\n",
              "      <th>1</th>\n",
              "      <td>459.8</td>\n",
              "      <td>474.5</td>\n",
              "      <td>599.0</td>\n",
              "      <td>544.1</td>\n",
              "      <td>580.0</td>\n",
              "      <td>120.0</td>\n",
              "      <td>2193.4</td>\n",
              "    </tr>\n",
              "    <tr>\n",
              "      <th>5</th>\n",
              "      <td>364.5</td>\n",
              "      <td>439.7</td>\n",
              "      <td>410.9</td>\n",
              "      <td>583.2</td>\n",
              "      <td>620.0</td>\n",
              "      <td>120.0</td>\n",
              "      <td>1922.3</td>\n",
              "    </tr>\n",
              "    <tr>\n",
              "      <th>6</th>\n",
              "      <td>529.2</td>\n",
              "      <td>420.1</td>\n",
              "      <td>484.5</td>\n",
              "      <td>604.2</td>\n",
              "      <td>560.0</td>\n",
              "      <td>120.0</td>\n",
              "      <td>2150.0</td>\n",
              "    </tr>\n",
              "    <tr>\n",
              "      <th>7</th>\n",
              "      <td>566.7</td>\n",
              "      <td>619.6</td>\n",
              "      <td>611.2</td>\n",
              "      <td>625.8</td>\n",
              "      <td>620.0</td>\n",
              "      <td>120.0</td>\n",
              "      <td>2547.3</td>\n",
              "    </tr>\n",
              "  </tbody>\n",
              "</table>\n",
              "</div>"
            ],
            "text/plain": [
              "     mat  cien_n  ling_c  cien_h  redacao  nota_comp3   media\n",
              "0  399.4   436.3   581.2   495.4    520.0       120.0  2016.3\n",
              "1  459.8   474.5   599.0   544.1    580.0       120.0  2193.4\n",
              "5  364.5   439.7   410.9   583.2    620.0       120.0  1922.3\n",
              "6  529.2   420.1   484.5   604.2    560.0       120.0  2150.0\n",
              "7  566.7   619.6   611.2   625.8    620.0       120.0  2547.3"
            ]
          },
          "metadata": {
            "tags": []
          },
          "execution_count": 41
        }
      ]
    },
    {
      "cell_type": "code",
      "metadata": {
        "id": "1JO5ErvlCndG",
        "colab_type": "code",
        "colab": {}
      },
      "source": [
        "# Para tentar melhorar a eficácia, vou reduzir a escala dos dados a mesma proporção. Os valores foram divididos por 100.\n",
        "\n",
        "train_reducao = train #colocando o dataset em outra variável afim de evitar sobrecarga\n"
      ],
      "execution_count": 42,
      "outputs": []
    },
    {
      "cell_type": "code",
      "metadata": {
        "id": "-rnRkqkUKvTC",
        "colab_type": "code",
        "colab": {
          "base_uri": "https://localhost:8080/",
          "height": 204
        },
        "outputId": "bd9384e4-036c-499c-8de0-6cfd292ec53a"
      },
      "source": [
        "#celulas separas para evitar sobrecarga\n",
        "train = reducao_on(train_reducao)\n",
        "train.head()"
      ],
      "execution_count": 43,
      "outputs": [
        {
          "output_type": "execute_result",
          "data": {
            "text/html": [
              "<div>\n",
              "<style scoped>\n",
              "    .dataframe tbody tr th:only-of-type {\n",
              "        vertical-align: middle;\n",
              "    }\n",
              "\n",
              "    .dataframe tbody tr th {\n",
              "        vertical-align: top;\n",
              "    }\n",
              "\n",
              "    .dataframe thead th {\n",
              "        text-align: right;\n",
              "    }\n",
              "</style>\n",
              "<table border=\"1\" class=\"dataframe\">\n",
              "  <thead>\n",
              "    <tr style=\"text-align: right;\">\n",
              "      <th></th>\n",
              "      <th>mat</th>\n",
              "      <th>cien_n</th>\n",
              "      <th>ling_c</th>\n",
              "      <th>cien_h</th>\n",
              "      <th>redacao</th>\n",
              "      <th>nota_comp3</th>\n",
              "      <th>media</th>\n",
              "    </tr>\n",
              "  </thead>\n",
              "  <tbody>\n",
              "    <tr>\n",
              "      <th>0</th>\n",
              "      <td>3.994</td>\n",
              "      <td>4.363</td>\n",
              "      <td>5.812</td>\n",
              "      <td>4.954</td>\n",
              "      <td>5.2</td>\n",
              "      <td>1.2</td>\n",
              "      <td>20.163</td>\n",
              "    </tr>\n",
              "    <tr>\n",
              "      <th>1</th>\n",
              "      <td>4.598</td>\n",
              "      <td>4.745</td>\n",
              "      <td>5.990</td>\n",
              "      <td>5.441</td>\n",
              "      <td>5.8</td>\n",
              "      <td>1.2</td>\n",
              "      <td>21.934</td>\n",
              "    </tr>\n",
              "    <tr>\n",
              "      <th>5</th>\n",
              "      <td>3.645</td>\n",
              "      <td>4.397</td>\n",
              "      <td>4.109</td>\n",
              "      <td>5.832</td>\n",
              "      <td>6.2</td>\n",
              "      <td>1.2</td>\n",
              "      <td>19.223</td>\n",
              "    </tr>\n",
              "    <tr>\n",
              "      <th>6</th>\n",
              "      <td>5.292</td>\n",
              "      <td>4.201</td>\n",
              "      <td>4.845</td>\n",
              "      <td>6.042</td>\n",
              "      <td>5.6</td>\n",
              "      <td>1.2</td>\n",
              "      <td>21.500</td>\n",
              "    </tr>\n",
              "    <tr>\n",
              "      <th>7</th>\n",
              "      <td>5.667</td>\n",
              "      <td>6.196</td>\n",
              "      <td>6.112</td>\n",
              "      <td>6.258</td>\n",
              "      <td>6.2</td>\n",
              "      <td>1.2</td>\n",
              "      <td>25.473</td>\n",
              "    </tr>\n",
              "  </tbody>\n",
              "</table>\n",
              "</div>"
            ],
            "text/plain": [
              "     mat  cien_n  ling_c  cien_h  redacao  nota_comp3   media\n",
              "0  3.994   4.363   5.812   4.954      5.2         1.2  20.163\n",
              "1  4.598   4.745   5.990   5.441      5.8         1.2  21.934\n",
              "5  3.645   4.397   4.109   5.832      6.2         1.2  19.223\n",
              "6  5.292   4.201   4.845   6.042      5.6         1.2  21.500\n",
              "7  5.667   6.196   6.112   6.258      6.2         1.2  25.473"
            ]
          },
          "metadata": {
            "tags": []
          },
          "execution_count": 43
        }
      ]
    },
    {
      "cell_type": "markdown",
      "metadata": {
        "id": "vqW0y0GOLExI",
        "colab_type": "text"
      },
      "source": [
        "##Modelos de Treinamento\n",
        "\n",
        "###Regressão Linear"
      ]
    },
    {
      "cell_type": "code",
      "metadata": {
        "id": "0-htHQoUK5Zl",
        "colab_type": "code",
        "colab": {
          "base_uri": "https://localhost:8080/",
          "height": 296
        },
        "outputId": "33e433ce-26d5-4ef5-d0e8-14c537ca7b20"
      },
      "source": [
        "#Separando as variaveis independentes e dependente\n",
        "y = train['media']\n",
        "X = train\n",
        "X = X.drop(['mat','media'],axis=1)\n",
        "\n",
        "#split das bases\n",
        "X_train, X_test , y_train, y_test = train_test_split(X , y, test_size=tst_size)\n",
        "\n",
        "#treinando media, sem as notas de matematica\n",
        "reg_lin = LinearRegression()\n",
        "reg_lin.fit(X_train, y_train)\n",
        "prever = reg_lin.predict(X_test)\n",
        "RL_media = ['LinearRegression: ',mean_absolute_error(y_test, prever)]\n",
        "\n",
        "#imprimindo predições\n",
        "grafico(prever, y_test,' Regressão Linear (media)')"
      ],
      "execution_count": 48,
      "outputs": [
        {
          "output_type": "display_data",
          "data": {
            "image/png": "[encoded data removed]",
            "text/plain": [
              "<Figure size 432x288 with 1 Axes>"
            ]
          },
          "metadata": {
            "tags": [],
            "needs_background": "light"
          }
        }
      ]
    },
    {
      "cell_type": "code",
      "metadata": {
        "id": "N8tlF37QMZ4Y",
        "colab_type": "code",
        "colab": {
          "base_uri": "https://localhost:8080/",
          "height": 296
        },
        "outputId": "95c92cee-7a94-4d2d-e90b-bf61f186e7d1"
      },
      "source": [
        "#separando dados de entrada(x) e saida(y)\n",
        "y = train['mat']\n",
        "X = train\n",
        "\n",
        "X = X.drop(['mat'],axis=1)\n",
        "\n",
        "#split de dados\n",
        "X_train, X_test, y_train, y_test = train_test_split(X, y, test_size=tst_size)\n",
        "\n",
        "#treinando notas de matematica, sem os dados de media\n",
        "reg_lin2 = LinearRegression()\n",
        "reg_lin2.fit(X_train,y_train)\n",
        "prever = reg_lin2.predict(X_test)\n",
        "RL_nota = ['LinearRegression',mean_absolute_error(y_test,prever)]\n",
        "\n",
        "#plotando predições\n",
        "grafico(prever, y_test,' Regressão linear(Notas)')"
      ],
      "execution_count": 52,
      "outputs": [
        {
          "output_type": "display_data",
          "data": {
            "image/png": "[encoded data removed]",
            "text/plain": [
              "<Figure size 432x288 with 1 Axes>"
            ]
          },
          "metadata": {
            "tags": [],
            "needs_background": "light"
          }
        }
      ]
    },
    {
      "cell_type": "markdown",
      "metadata": {
        "id": "kV_dN61WOBAP",
        "colab_type": "text"
      },
      "source": [
        "###KNN (K-Nearest Neighbors)"
      ]
    },
    {
      "cell_type": "code",
      "metadata": {
        "id": "qP0ttCYuNk3K",
        "colab_type": "code",
        "colab": {
          "base_uri": "https://localhost:8080/",
          "height": 296
        },
        "outputId": "bbc8446a-be52-4c13-a7af-979d465bb7bd"
      },
      "source": [
        "#Separando as variaveis independentes e dependente\n",
        "y = train['media']\n",
        "X = train\n",
        "X = X.drop(['mat','media'], axis=1)\n",
        "\n",
        "#split das bases\n",
        "X_train, X_test , y_train, y_test = train_test_split(X , y, test_size=tst_size)\n",
        "\n",
        "#treinando media knn, sem as notas de matematica\n",
        "knn = KNeighborsRegressor(n_neighbors = 5, p=1)\n",
        "knn.fit(X_train, y_train)\n",
        "prever = knn.predict(X_test)\n",
        "KNN_media = [' KNN: ', mean_absolute_error(y_test, prever)]\n",
        "\n",
        "#imprimindo predições\n",
        "grafico(prever, y_test, ' KNN Regressão (media)')"
      ],
      "execution_count": 59,
      "outputs": [
        {
          "output_type": "display_data",
          "data": {
            "image/png": "[encoded data removed]",
            "text/plain": [
              "<Figure size 432x288 with 1 Axes>"
            ]
          },
          "metadata": {
            "tags": [],
            "needs_background": "light"
          }
        }
      ]
    },
    {
      "cell_type": "code",
      "metadata": {
        "id": "5uVUjBqNVDQO",
        "colab_type": "code",
        "colab": {
          "base_uri": "https://localhost:8080/",
          "height": 296
        },
        "outputId": "6ba98e0f-52e0-4516-f273-f21e7480101c"
      },
      "source": [
        "#Separando as variaveis independentes e dependente\n",
        "y = train['mat']\n",
        "X = train\n",
        "X = X.drop(['mat'], axis=1)\n",
        "\n",
        "#split das bases\n",
        "X_train, X_test , y_train, y_test = train_test_split(X , y, test_size=tst_size)\n",
        "\n",
        "#treinando media knn, sem as notas de matematica\n",
        "knn2 = KNeighborsRegressor(n_neighbors = 5, p=1)\n",
        "knn2.fit(X_train, y_train)\n",
        "prever = knn2.predict(X_test)\n",
        "KNN_nota = [' KNN: ', mean_absolute_error(y_test, prever)]\n",
        "\n",
        "#imprimindo predições\n",
        "grafico(prever, y_test, ' KNN Regressão (nota)')"
      ],
      "execution_count": 60,
      "outputs": [
        {
          "output_type": "display_data",
          "data": {
            "image/png": "[encoded data removed]",
            "text/plain": [
              "<Figure size 432x288 with 1 Axes>"
            ]
          },
          "metadata": {
            "tags": [],
            "needs_background": "light"
          }
        }
      ]
    },
    {
      "cell_type": "markdown",
      "metadata": {
        "id": "x4TlqwtlVecl",
        "colab_type": "text"
      },
      "source": [
        "###Random Forest"
      ]
    },
    {
      "cell_type": "code",
      "metadata": {
        "id": "P6ZTL9fFVkzA",
        "colab_type": "code",
        "colab": {
          "base_uri": "https://localhost:8080/",
          "height": 296
        },
        "outputId": "2f2f6af9-741b-4f19-9b79-f7c5310cc1b4"
      },
      "source": [
        "#Separando as variaveis independentes e dependente\n",
        "y = train['media']\n",
        "X = train\n",
        "X = X.drop(['mat','media'], axis=1)\n",
        "\n",
        "#split das bases\n",
        "X_train, X_test , y_train, y_test = train_test_split(X , y, test_size=tst_size)\n",
        "\n",
        "#treinando media RF, sem as notas de matematica\n",
        "RF = RandomForestRegressor(n_estimators=50)\n",
        "RF.fit(X_train, y_train)\n",
        "prever = RF.predict(X_test)\n",
        "RF_media = [' Random Forest: ', mean_absolute_error(y_test, prever)]\n",
        "\n",
        "#imprimindo predições\n",
        "grafico(prever, y_test, ' Random Forest (media)')"
      ],
      "execution_count": 61,
      "outputs": [
        {
          "output_type": "display_data",
          "data": {
            "image/png": "[encoded data removed]",
            "text/plain": [
              "<Figure size 432x288 with 1 Axes>"
            ]
          },
          "metadata": {
            "tags": [],
            "needs_background": "light"
          }
        }
      ]
    },
    {
      "cell_type": "code",
      "metadata": {
        "id": "nNs9dcrUWKJS",
        "colab_type": "code",
        "colab": {
          "base_uri": "https://localhost:8080/",
          "height": 296
        },
        "outputId": "ce78abcc-43c2-46ba-e2f0-ccd8951a76f1"
      },
      "source": [
        "#Separando as variaveis independentes e dependente\n",
        "y = train['mat']\n",
        "X = train\n",
        "X = X.drop(['mat'], axis=1)\n",
        "\n",
        "#split das bases\n",
        "X_train, X_test , y_train, y_test = train_test_split(X , y, test_size=tst_size)\n",
        "\n",
        "#treinando media RF, sem as notas de matematica\n",
        "RF2 = RandomForestRegressor(n_estimators=50)\n",
        "RF2.fit(X_train, y_train)\n",
        "prever = RF2.predict(X_test)\n",
        "RF_nota = [' Random Forest: ', mean_absolute_error(y_test, prever)]\n",
        "\n",
        "#imprimindo predições\n",
        "grafico(prever, y_test, ' Random Forest (nota)')"
      ],
      "execution_count": 62,
      "outputs": [
        {
          "output_type": "display_data",
          "data": {
            "image/png": "[encoded data removed]",
            "text/plain": [
              "<Figure size 432x288 with 1 Axes>"
            ]
          },
          "metadata": {
            "tags": [],
            "needs_background": "light"
          }
        }
      ]
    },
    {
      "cell_type": "code",
      "metadata": {
        "id": "hJWheZCbWXPV",
        "colab_type": "code",
        "colab": {
          "base_uri": "https://localhost:8080/",
          "height": 308
        },
        "outputId": "061097cd-e89a-4738-fd3d-7870a325fff8"
      },
      "source": [
        "grafico_mape(RL_media,KNN_media,RF_media,'Média')"
      ],
      "execution_count": 64,
      "outputs": [
        {
          "output_type": "display_data",
          "data": {
            "image/png": "[encoded data removed]",
            "text/plain": [
              "<Figure size 432x288 with 1 Axes>"
            ]
          },
          "metadata": {
            "tags": [],
            "needs_background": "light"
          }
        }
      ]
    },
    {
      "cell_type": "code",
      "metadata": {
        "id": "5vD5Eg1YWrfL",
        "colab_type": "code",
        "colab": {
          "base_uri": "https://localhost:8080/",
          "height": 308
        },
        "outputId": "b7c09b84-df99-4b04-a379-bc489e5e977c"
      },
      "source": [
        "grafico_mape(RL_nota,KNN_nota,RF_nota,'Nota')"
      ],
      "execution_count": 65,
      "outputs": [
        {
          "output_type": "display_data",
          "data": {
            "image/png": "[encoded data removed]",
            "text/plain": [
              "<Figure size 432x288 with 1 Axes>"
            ]
          },
          "metadata": {
            "tags": [],
            "needs_background": "light"
          }
        }
      ]
    },
    {
      "cell_type": "markdown",
      "metadata": {
        "id": "TrBIAa-_W5AZ",
        "colab_type": "text"
      },
      "source": [
        "A **LinearRegression** teve erro muito elevado em comparado aos demais modelos, por isso ele não foi exibido no plot."
      ]
    },
    {
      "cell_type": "code",
      "metadata": {
        "id": "rq8RK2QGWyTS",
        "colab_type": "code",
        "colab": {}
      },
      "source": [
        "# preparando a base de teste\n",
        "test_new = {\n",
        "    'cien_n': test['NU_NOTA_CN'],\n",
        "    'ling_c': test['NU_NOTA_LC'],\n",
        "    'cien_h': test['NU_NOTA_CH'],\n",
        "    'redacao': test['NU_NOTA_REDACAO'],\n",
        "    'nota_comp3': test['NU_NOTA_COMP3']\n",
        "}"
      ],
      "execution_count": 69,
      "outputs": []
    },
    {
      "cell_type": "code",
      "metadata": {
        "id": "2mGpYYeAXan-",
        "colab_type": "code",
        "colab": {}
      },
      "source": [
        "dados = pd.DataFrame(test_new)"
      ],
      "execution_count": 86,
      "outputs": []
    },
    {
      "cell_type": "code",
      "metadata": {
        "id": "tcAlUNy5X833",
        "colab_type": "code",
        "colab": {}
      },
      "source": [
        "dados = dados.dropna(axis=0, how='any') # removendo os nulos"
      ],
      "execution_count": 87,
      "outputs": []
    },
    {
      "cell_type": "code",
      "metadata": {
        "id": "C90pSOIFYHFS",
        "colab_type": "code",
        "colab": {}
      },
      "source": [
        "# normalizando dados\n",
        "dados = normalize_on(dados)"
      ],
      "execution_count": 88,
      "outputs": []
    },
    {
      "cell_type": "code",
      "metadata": {
        "id": "ybIpbKxwYUjq",
        "colab_type": "code",
        "colab": {
          "base_uri": "https://localhost:8080/",
          "height": 204
        },
        "outputId": "3e0a96de-40c5-464d-cf66-21169a322cdb"
      },
      "source": [
        "dados.head()"
      ],
      "execution_count": 89,
      "outputs": [
        {
          "output_type": "execute_result",
          "data": {
            "text/html": [
              "<div>\n",
              "<style scoped>\n",
              "    .dataframe tbody tr th:only-of-type {\n",
              "        vertical-align: middle;\n",
              "    }\n",
              "\n",
              "    .dataframe tbody tr th {\n",
              "        vertical-align: top;\n",
              "    }\n",
              "\n",
              "    .dataframe thead th {\n",
              "        text-align: right;\n",
              "    }\n",
              "</style>\n",
              "<table border=\"1\" class=\"dataframe\">\n",
              "  <thead>\n",
              "    <tr style=\"text-align: right;\">\n",
              "      <th></th>\n",
              "      <th>cien_n</th>\n",
              "      <th>ling_c</th>\n",
              "      <th>cien_h</th>\n",
              "      <th>redacao</th>\n",
              "      <th>nota_comp3</th>\n",
              "    </tr>\n",
              "  </thead>\n",
              "  <tbody>\n",
              "    <tr>\n",
              "      <th>0</th>\n",
              "      <td>4.648</td>\n",
              "      <td>4.318</td>\n",
              "      <td>4.435</td>\n",
              "      <td>4.2</td>\n",
              "      <td>0.8</td>\n",
              "    </tr>\n",
              "    <tr>\n",
              "      <th>1</th>\n",
              "      <td>3.911</td>\n",
              "      <td>5.480</td>\n",
              "      <td>4.911</td>\n",
              "      <td>5.8</td>\n",
              "      <td>1.2</td>\n",
              "    </tr>\n",
              "    <tr>\n",
              "      <th>2</th>\n",
              "      <td>5.959</td>\n",
              "      <td>6.136</td>\n",
              "      <td>6.227</td>\n",
              "      <td>3.2</td>\n",
              "      <td>0.4</td>\n",
              "    </tr>\n",
              "    <tr>\n",
              "      <th>4</th>\n",
              "      <td>5.929</td>\n",
              "      <td>5.714</td>\n",
              "      <td>4.926</td>\n",
              "      <td>3.2</td>\n",
              "      <td>0.6</td>\n",
              "    </tr>\n",
              "    <tr>\n",
              "      <th>5</th>\n",
              "      <td>4.145</td>\n",
              "      <td>5.425</td>\n",
              "      <td>5.685</td>\n",
              "      <td>5.6</td>\n",
              "      <td>1.2</td>\n",
              "    </tr>\n",
              "  </tbody>\n",
              "</table>\n",
              "</div>"
            ],
            "text/plain": [
              "   cien_n  ling_c  cien_h  redacao  nota_comp3\n",
              "0   4.648   4.318   4.435      4.2         0.8\n",
              "1   3.911   5.480   4.911      5.8         1.2\n",
              "2   5.959   6.136   6.227      3.2         0.4\n",
              "4   5.929   5.714   4.926      3.2         0.6\n",
              "5   4.145   5.425   5.685      5.6         1.2"
            ]
          },
          "metadata": {
            "tags": []
          },
          "execution_count": 89
        }
      ]
    },
    {
      "cell_type": "code",
      "metadata": {
        "id": "jipv7LDAYVp_",
        "colab_type": "code",
        "colab": {
          "base_uri": "https://localhost:8080/",
          "height": 80
        },
        "outputId": "90588c99-f991-402a-d817-7bb1a4fdca5c"
      },
      "source": [
        "#Predições de média para o dataset de respostas\n",
        "respostas = RF.predict(dados)\n",
        "dados['media'] = respostas\n",
        "dados.head(1)"
      ],
      "execution_count": 90,
      "outputs": [
        {
          "output_type": "execute_result",
          "data": {
            "text/html": [
              "<div>\n",
              "<style scoped>\n",
              "    .dataframe tbody tr th:only-of-type {\n",
              "        vertical-align: middle;\n",
              "    }\n",
              "\n",
              "    .dataframe tbody tr th {\n",
              "        vertical-align: top;\n",
              "    }\n",
              "\n",
              "    .dataframe thead th {\n",
              "        text-align: right;\n",
              "    }\n",
              "</style>\n",
              "<table border=\"1\" class=\"dataframe\">\n",
              "  <thead>\n",
              "    <tr style=\"text-align: right;\">\n",
              "      <th></th>\n",
              "      <th>cien_n</th>\n",
              "      <th>ling_c</th>\n",
              "      <th>cien_h</th>\n",
              "      <th>redacao</th>\n",
              "      <th>nota_comp3</th>\n",
              "      <th>media</th>\n",
              "    </tr>\n",
              "  </thead>\n",
              "  <tbody>\n",
              "    <tr>\n",
              "      <th>0</th>\n",
              "      <td>4.648</td>\n",
              "      <td>4.318</td>\n",
              "      <td>4.435</td>\n",
              "      <td>4.2</td>\n",
              "      <td>0.8</td>\n",
              "      <td>18.50342</td>\n",
              "    </tr>\n",
              "  </tbody>\n",
              "</table>\n",
              "</div>"
            ],
            "text/plain": [
              "   cien_n  ling_c  cien_h  redacao  nota_comp3     media\n",
              "0   4.648   4.318   4.435      4.2         0.8  18.50342"
            ]
          },
          "metadata": {
            "tags": []
          },
          "execution_count": 90
        }
      ]
    },
    {
      "cell_type": "code",
      "metadata": {
        "id": "gHJUWDm-Yut-",
        "colab_type": "code",
        "colab": {
          "base_uri": "https://localhost:8080/",
          "height": 204
        },
        "outputId": "292fc7b0-8342-46c6-ea20-42045de1ce32"
      },
      "source": [
        "#Predições de notas de matemática\n",
        "respostas = RF2.predict(dados)\n",
        "dados['mat'] = respostas\n",
        "dados.head()"
      ],
      "execution_count": 91,
      "outputs": [
        {
          "output_type": "execute_result",
          "data": {
            "text/html": [
              "<div>\n",
              "<style scoped>\n",
              "    .dataframe tbody tr th:only-of-type {\n",
              "        vertical-align: middle;\n",
              "    }\n",
              "\n",
              "    .dataframe tbody tr th {\n",
              "        vertical-align: top;\n",
              "    }\n",
              "\n",
              "    .dataframe thead th {\n",
              "        text-align: right;\n",
              "    }\n",
              "</style>\n",
              "<table border=\"1\" class=\"dataframe\">\n",
              "  <thead>\n",
              "    <tr style=\"text-align: right;\">\n",
              "      <th></th>\n",
              "      <th>cien_n</th>\n",
              "      <th>ling_c</th>\n",
              "      <th>cien_h</th>\n",
              "      <th>redacao</th>\n",
              "      <th>nota_comp3</th>\n",
              "      <th>media</th>\n",
              "      <th>mat</th>\n",
              "    </tr>\n",
              "  </thead>\n",
              "  <tbody>\n",
              "    <tr>\n",
              "      <th>0</th>\n",
              "      <td>4.648</td>\n",
              "      <td>4.318</td>\n",
              "      <td>4.435</td>\n",
              "      <td>4.2</td>\n",
              "      <td>0.8</td>\n",
              "      <td>18.50342</td>\n",
              "      <td>4.10960</td>\n",
              "    </tr>\n",
              "    <tr>\n",
              "      <th>1</th>\n",
              "      <td>3.911</td>\n",
              "      <td>5.480</td>\n",
              "      <td>4.911</td>\n",
              "      <td>5.8</td>\n",
              "      <td>1.2</td>\n",
              "      <td>19.93556</td>\n",
              "      <td>4.34740</td>\n",
              "    </tr>\n",
              "    <tr>\n",
              "      <th>2</th>\n",
              "      <td>5.959</td>\n",
              "      <td>6.136</td>\n",
              "      <td>6.227</td>\n",
              "      <td>3.2</td>\n",
              "      <td>0.4</td>\n",
              "      <td>25.43474</td>\n",
              "      <td>6.14972</td>\n",
              "    </tr>\n",
              "    <tr>\n",
              "      <th>4</th>\n",
              "      <td>5.929</td>\n",
              "      <td>5.714</td>\n",
              "      <td>4.926</td>\n",
              "      <td>3.2</td>\n",
              "      <td>0.6</td>\n",
              "      <td>22.66324</td>\n",
              "      <td>5.26176</td>\n",
              "    </tr>\n",
              "    <tr>\n",
              "      <th>5</th>\n",
              "      <td>4.145</td>\n",
              "      <td>5.425</td>\n",
              "      <td>5.685</td>\n",
              "      <td>5.6</td>\n",
              "      <td>1.2</td>\n",
              "      <td>21.00412</td>\n",
              "      <td>4.68642</td>\n",
              "    </tr>\n",
              "  </tbody>\n",
              "</table>\n",
              "</div>"
            ],
            "text/plain": [
              "   cien_n  ling_c  cien_h  redacao  nota_comp3     media      mat\n",
              "0   4.648   4.318   4.435      4.2         0.8  18.50342  4.10960\n",
              "1   3.911   5.480   4.911      5.8         1.2  19.93556  4.34740\n",
              "2   5.959   6.136   6.227      3.2         0.4  25.43474  6.14972\n",
              "4   5.929   5.714   4.926      3.2         0.6  22.66324  5.26176\n",
              "5   4.145   5.425   5.685      5.6         1.2  21.00412  4.68642"
            ]
          },
          "metadata": {
            "tags": []
          },
          "execution_count": 91
        }
      ]
    },
    {
      "cell_type": "code",
      "metadata": {
        "id": "R2b_J-KCY4B9",
        "colab_type": "code",
        "colab": {
          "base_uri": "https://localhost:8080/",
          "height": 204
        },
        "outputId": "3355da2f-b979-4f3a-a40d-bec2a160bb66"
      },
      "source": [
        "#Removendo as normalização da coluna de matemática\n",
        "\n",
        "dados['mat'] = normalize_off(dados['mat'])\n",
        "dados.head()"
      ],
      "execution_count": 92,
      "outputs": [
        {
          "output_type": "execute_result",
          "data": {
            "text/html": [
              "<div>\n",
              "<style scoped>\n",
              "    .dataframe tbody tr th:only-of-type {\n",
              "        vertical-align: middle;\n",
              "    }\n",
              "\n",
              "    .dataframe tbody tr th {\n",
              "        vertical-align: top;\n",
              "    }\n",
              "\n",
              "    .dataframe thead th {\n",
              "        text-align: right;\n",
              "    }\n",
              "</style>\n",
              "<table border=\"1\" class=\"dataframe\">\n",
              "  <thead>\n",
              "    <tr style=\"text-align: right;\">\n",
              "      <th></th>\n",
              "      <th>cien_n</th>\n",
              "      <th>ling_c</th>\n",
              "      <th>cien_h</th>\n",
              "      <th>redacao</th>\n",
              "      <th>nota_comp3</th>\n",
              "      <th>media</th>\n",
              "      <th>mat</th>\n",
              "    </tr>\n",
              "  </thead>\n",
              "  <tbody>\n",
              "    <tr>\n",
              "      <th>0</th>\n",
              "      <td>4.648</td>\n",
              "      <td>4.318</td>\n",
              "      <td>4.435</td>\n",
              "      <td>4.2</td>\n",
              "      <td>0.8</td>\n",
              "      <td>18.50342</td>\n",
              "      <td>410.960</td>\n",
              "    </tr>\n",
              "    <tr>\n",
              "      <th>1</th>\n",
              "      <td>3.911</td>\n",
              "      <td>5.480</td>\n",
              "      <td>4.911</td>\n",
              "      <td>5.8</td>\n",
              "      <td>1.2</td>\n",
              "      <td>19.93556</td>\n",
              "      <td>434.740</td>\n",
              "    </tr>\n",
              "    <tr>\n",
              "      <th>2</th>\n",
              "      <td>5.959</td>\n",
              "      <td>6.136</td>\n",
              "      <td>6.227</td>\n",
              "      <td>3.2</td>\n",
              "      <td>0.4</td>\n",
              "      <td>25.43474</td>\n",
              "      <td>614.972</td>\n",
              "    </tr>\n",
              "    <tr>\n",
              "      <th>4</th>\n",
              "      <td>5.929</td>\n",
              "      <td>5.714</td>\n",
              "      <td>4.926</td>\n",
              "      <td>3.2</td>\n",
              "      <td>0.6</td>\n",
              "      <td>22.66324</td>\n",
              "      <td>526.176</td>\n",
              "    </tr>\n",
              "    <tr>\n",
              "      <th>5</th>\n",
              "      <td>4.145</td>\n",
              "      <td>5.425</td>\n",
              "      <td>5.685</td>\n",
              "      <td>5.6</td>\n",
              "      <td>1.2</td>\n",
              "      <td>21.00412</td>\n",
              "      <td>468.642</td>\n",
              "    </tr>\n",
              "  </tbody>\n",
              "</table>\n",
              "</div>"
            ],
            "text/plain": [
              "   cien_n  ling_c  cien_h  redacao  nota_comp3     media      mat\n",
              "0   4.648   4.318   4.435      4.2         0.8  18.50342  410.960\n",
              "1   3.911   5.480   4.911      5.8         1.2  19.93556  434.740\n",
              "2   5.959   6.136   6.227      3.2         0.4  25.43474  614.972\n",
              "4   5.929   5.714   4.926      3.2         0.6  22.66324  526.176\n",
              "5   4.145   5.425   5.685      5.6         1.2  21.00412  468.642"
            ]
          },
          "metadata": {
            "tags": []
          },
          "execution_count": 92
        }
      ]
    },
    {
      "cell_type": "code",
      "metadata": {
        "id": "Ns-AQuHgY92e",
        "colab_type": "code",
        "colab": {}
      },
      "source": [
        "#Finalizando o tratamento dos dados\n",
        "dados = dados.drop(['cien_n','ling_c','cien_h','redacao','nota_comp3'],axis=1)\n",
        "dados['NU_INSCRICAO'] =  test['NU_INSCRICAO']\n",
        "dados['NU_NOTA_MT'] = dados['mat']\n",
        "dados = dados.drop(['mat'],axis=1)\n",
        "dados = dados.drop(['media'],axis=1)\n",
        "dados['NU_NOTA_MT'] = dados['NU_NOTA_MT']"
      ],
      "execution_count": 93,
      "outputs": []
    },
    {
      "cell_type": "code",
      "metadata": {
        "id": "ZJOtgb4PZ6lu",
        "colab_type": "code",
        "colab": {}
      },
      "source": [
        "dados.to_csv('answer.csv',index=False) #criando CSV"
      ],
      "execution_count": 94,
      "outputs": []
    },
    {
      "cell_type": "code",
      "metadata": {
        "id": "ItKse3KHaXW3",
        "colab_type": "code",
        "colab": {
          "base_uri": "https://localhost:8080/",
          "height": 204
        },
        "outputId": "7d84bf44-ad28-417c-81ee-1dd922ad0e0e"
      },
      "source": [
        "nota_final = pd.read_csv('answer.csv')\n",
        "nota_final.head()"
      ],
      "execution_count": 95,
      "outputs": [
        {
          "output_type": "execute_result",
          "data": {
            "text/html": [
              "<div>\n",
              "<style scoped>\n",
              "    .dataframe tbody tr th:only-of-type {\n",
              "        vertical-align: middle;\n",
              "    }\n",
              "\n",
              "    .dataframe tbody tr th {\n",
              "        vertical-align: top;\n",
              "    }\n",
              "\n",
              "    .dataframe thead th {\n",
              "        text-align: right;\n",
              "    }\n",
              "</style>\n",
              "<table border=\"1\" class=\"dataframe\">\n",
              "  <thead>\n",
              "    <tr style=\"text-align: right;\">\n",
              "      <th></th>\n",
              "      <th>NU_INSCRICAO</th>\n",
              "      <th>NU_NOTA_MT</th>\n",
              "    </tr>\n",
              "  </thead>\n",
              "  <tbody>\n",
              "    <tr>\n",
              "      <th>0</th>\n",
              "      <td>73ff9fcc02f0a99919906c942c2e1a1042cdcf98</td>\n",
              "      <td>410.960</td>\n",
              "    </tr>\n",
              "    <tr>\n",
              "      <th>1</th>\n",
              "      <td>71a95f9f1b91a82c65ad94abbdf9f54e6066f968</td>\n",
              "      <td>434.740</td>\n",
              "    </tr>\n",
              "    <tr>\n",
              "      <th>2</th>\n",
              "      <td>b38a03232f43b11c9d0788abaf060f7366053b6d</td>\n",
              "      <td>614.972</td>\n",
              "    </tr>\n",
              "    <tr>\n",
              "      <th>3</th>\n",
              "      <td>715494628a50142ce8cb17191cfe6d0f3cae0934</td>\n",
              "      <td>526.176</td>\n",
              "    </tr>\n",
              "    <tr>\n",
              "      <th>4</th>\n",
              "      <td>e656d6bad65c93fb2880f1eba5037008c8e75774</td>\n",
              "      <td>468.642</td>\n",
              "    </tr>\n",
              "  </tbody>\n",
              "</table>\n",
              "</div>"
            ],
            "text/plain": [
              "                               NU_INSCRICAO  NU_NOTA_MT\n",
              "0  73ff9fcc02f0a99919906c942c2e1a1042cdcf98     410.960\n",
              "1  71a95f9f1b91a82c65ad94abbdf9f54e6066f968     434.740\n",
              "2  b38a03232f43b11c9d0788abaf060f7366053b6d     614.972\n",
              "3  715494628a50142ce8cb17191cfe6d0f3cae0934     526.176\n",
              "4  e656d6bad65c93fb2880f1eba5037008c8e75774     468.642"
            ]
          },
          "metadata": {
            "tags": []
          },
          "execution_count": 95
        }
      ]
    },
    {
      "cell_type": "code",
      "metadata": {
        "id": "n20GWQe9aiS_",
        "colab_type": "code",
        "colab": {}
      },
      "source": [
        ""
      ],
      "execution_count": null,
      "outputs": []
    }
  ]
}